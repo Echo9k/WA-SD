{
 "cells": [
  {
   "cell_type": "code",
   "execution_count": 1,
   "id": "b6d4196a",
   "metadata": {
    "pycharm": {
     "name": "#%%\n"
    }
   },
   "outputs": [],
   "source": [
    "import pandas as pd \n",
    "from pprint import pprint\n",
    "import seaborn as sns\n",
    "# import warnings\n",
    "\n",
    "import funciones as fun  # mis funciones"
   ]
  },
  {
   "cell_type": "markdown",
   "id": "ad1b87c3-dac2-46bd-bdf3-b8a3d9cb8659",
   "metadata": {
    "jp-MarkdownHeadingCollapsed": true,
    "tags": [],
    "pycharm": {
     "name": "#%% md\n"
    }
   },
   "source": [
    "# 1 Carga de datos"
   ]
  },
  {
   "cell_type": "markdown",
   "source": [
    "Si tenemos alta volumetria de datos es bueno tener el tipo de dato más eficiente para el caso de uso.\n",
    "Voy a intentar.\n",
    "1. Eliminar simbolos que eviten numeros interpretarse adecuadamente.\n",
    "2. Castear tipos de datos a formatos más adecuados para su uso y de ser posibles también más adecuados para su almacenamiento.\n",
    "3. Validar que si existan duplicados en las tablas de catálogo."
   ],
   "metadata": {
    "collapsed": false,
    "pycharm": {
     "name": "#%% md\n"
    }
   }
  },
  {
   "cell_type": "markdown",
   "source": [
    "## 1.1 Clientes"
   ],
   "metadata": {
    "collapsed": false,
    "pycharm": {
     "name": "#%% md\n"
    }
   }
  },
  {
   "cell_type": "code",
   "execution_count": 2,
   "outputs": [
    {
     "data": {
      "text/html": [
       "<div>\n",
       "<style scoped>\n",
       "    .dataframe tbody tr th:only-of-type {\n",
       "        vertical-align: middle;\n",
       "    }\n",
       "\n",
       "    .dataframe tbody tr th {\n",
       "        vertical-align: top;\n",
       "    }\n",
       "\n",
       "    .dataframe thead th {\n",
       "        text-align: right;\n",
       "    }\n",
       "</style>\n",
       "<table border=\"1\" class=\"dataframe\">\n",
       "  <thead>\n",
       "    <tr style=\"text-align: right;\">\n",
       "      <th></th>\n",
       "      <th>NUM TDA</th>\n",
       "      <th>NOMBRE DE TDA</th>\n",
       "      <th>CADENA</th>\n",
       "      <th>FORMATO</th>\n",
       "      <th>ESTADO</th>\n",
       "      <th>DIVISION</th>\n",
       "    </tr>\n",
       "  </thead>\n",
       "  <tbody>\n",
       "    <tr>\n",
       "      <th>572</th>\n",
       "      <td>1583</td>\n",
       "      <td>Young Yellow Baker</td>\n",
       "      <td>proveedor_2</td>\n",
       "      <td>SmallShop</td>\n",
       "      <td>Emarrus</td>\n",
       "      <td>NOROESTE</td>\n",
       "    </tr>\n",
       "  </tbody>\n",
       "</table>\n",
       "</div>"
      ],
      "text/plain": [
       "     NUM TDA       NOMBRE DE TDA       CADENA    FORMATO   ESTADO  DIVISION\n",
       "572     1583  Young Yellow Baker  proveedor_2  SmallShop  Emarrus  NOROESTE"
      ]
     },
     "execution_count": 2,
     "metadata": {},
     "output_type": "execute_result"
    }
   ],
   "source": [
    "clientes = pd.read_excel('./data/maestro_clientes.xlsx', index_col=0)\n",
    "clientes.sample()"
   ],
   "metadata": {
    "collapsed": false,
    "pycharm": {
     "name": "#%%\n"
    }
   }
  },
  {
   "cell_type": "markdown",
   "source": [
    "De inicio vamos a ver como se interpreta la informacion."
   ],
   "metadata": {
    "collapsed": false,
    "pycharm": {
     "name": "#%% md\n"
    }
   }
  },
  {
   "cell_type": "code",
   "execution_count": 3,
   "id": "aad182ba-6d83-4bbe-9777-a8534c22424d",
   "metadata": {
    "pycharm": {
     "name": "#%%\n"
    }
   },
   "outputs": [
    {
     "name": "stdout",
     "output_type": "stream",
     "text": [
      "<class 'pandas.core.frame.DataFrame'>\n",
      "Int64Index: 2452 entries, 0 to 2451\n",
      "Data columns (total 6 columns):\n",
      " #   Column         Non-Null Count  Dtype \n",
      "---  ------         --------------  ----- \n",
      " 0   NUM TDA        2452 non-null   int64 \n",
      " 1   NOMBRE DE TDA  2452 non-null   object\n",
      " 2   CADENA         2452 non-null   object\n",
      " 3   FORMATO        2452 non-null   object\n",
      " 4   ESTADO         2452 non-null   object\n",
      " 5   DIVISION       2452 non-null   object\n",
      "dtypes: int64(1), object(5)\n",
      "memory usage: 134.1+ KB\n"
     ]
    }
   ],
   "source": [
    "clientes.info()"
   ]
  },
  {
   "cell_type": "markdown",
   "source": [
    "Para saber si nos conviene convertir los textos a categorize podemos contar cuantos valores unicos hay por tabla.\n",
    "\n",
    "Por ejemplo, en una tabla de cientos de renglones podemos encontrar al rededor de 3 valores unicos en la columna de género: Femenino, Masculino, y Otros.\n",
    "\n",
    "Si el número de valores unicos es pequeño es un buen indicador de que podemos transformar el tipo de dato a categoria, lo cual es más adecuado."
   ],
   "metadata": {
    "collapsed": false,
    "pycharm": {
     "name": "#%% md\n"
    }
   }
  },
  {
   "cell_type": "code",
   "execution_count": 4,
   "id": "bb0c3911-ac73-4bfa-9e4d-1b7c32cb2e70",
   "metadata": {
    "pycharm": {
     "name": "#%%\n"
    }
   },
   "outputs": [
    {
     "data": {
      "text/plain": [
       "NUM TDA          2448\n",
       "NOMBRE DE TDA    2389\n",
       "CADENA              2\n",
       "FORMATO            13\n",
       "ESTADO             32\n",
       "DIVISION           11\n",
       "dtype: int64"
      ]
     },
     "execution_count": 4,
     "metadata": {},
     "output_type": "execute_result"
    }
   ],
   "source": [
    "clientes.nunique()"
   ]
  },
  {
   "cell_type": "markdown",
   "source": [
    "Esta parte la hacemos para buscar de manera rapida valores nulos que esten como texto porque aalgunas ocaciones los valores nulos están como: -9999, NA, 0000, -1, etc.\n",
    "\n",
    "Cuando esto sucede los programas lo consideran un valor cuando en realidad no tiene significado."
   ],
   "metadata": {
    "collapsed": false,
    "pycharm": {
     "name": "#%% md\n"
    }
   }
  },
  {
   "cell_type": "code",
   "execution_count": 5,
   "id": "4f7c0ed7-6248-4cac-adc0-3704921315bd",
   "metadata": {
    "pycharm": {
     "name": "#%%\n"
    }
   },
   "outputs": [
    {
     "data": {
      "text/plain": [
       "METRO-NORTE    349\n",
       "OCCIDENTE      344\n",
       "NORESTE        338\n",
       "METRO-SUR      279\n",
       "BAJÍO          257\n",
       "CENTRO         237\n",
       "SURESTE        222\n",
       "NOROESTE       165\n",
       "PENÍNSULA      103\n",
       "CENTRO-SUR      91\n",
       "SUROESTE        67\n",
       "Name: DIVISION, dtype: int64"
      ]
     },
     "execution_count": 5,
     "metadata": {},
     "output_type": "execute_result"
    }
   ],
   "source": [
    "_ = \"DIVISION\"\n",
    "clientes[_].value_counts()"
   ]
  },
  {
   "cell_type": "markdown",
   "id": "cae77f83-44fc-401e-bdd7-9100da886f39",
   "metadata": {
    "pycharm": {
     "name": "#%% md\n"
    }
   },
   "source": [
    "Ya que esta tabla corresponde a un catálogo no tiene mucho sentido tener valores duplicados"
   ]
  },
  {
   "cell_type": "code",
   "execution_count": 6,
   "id": "1ad80aad-b867-40b6-9de2-591b0ef37d42",
   "metadata": {
    "pycharm": {
     "name": "#%%\n"
    }
   },
   "outputs": [
    {
     "data": {
      "text/html": [
       "<div>\n",
       "<style scoped>\n",
       "    .dataframe tbody tr th:only-of-type {\n",
       "        vertical-align: middle;\n",
       "    }\n",
       "\n",
       "    .dataframe tbody tr th {\n",
       "        vertical-align: top;\n",
       "    }\n",
       "\n",
       "    .dataframe thead th {\n",
       "        text-align: right;\n",
       "    }\n",
       "</style>\n",
       "<table border=\"1\" class=\"dataframe\">\n",
       "  <thead>\n",
       "    <tr style=\"text-align: right;\">\n",
       "      <th></th>\n",
       "      <th>NUM TDA</th>\n",
       "      <th>NOMBRE DE TDA</th>\n",
       "      <th>CADENA</th>\n",
       "      <th>FORMATO</th>\n",
       "      <th>ESTADO</th>\n",
       "      <th>DIVISION</th>\n",
       "    </tr>\n",
       "  </thead>\n",
       "  <tbody>\n",
       "    <tr>\n",
       "      <th>115</th>\n",
       "      <td>143</td>\n",
       "      <td>Empty Turquoise Baker</td>\n",
       "      <td>proveedor_1</td>\n",
       "      <td>Shop</td>\n",
       "      <td>Egusgul</td>\n",
       "      <td>NOROESTE</td>\n",
       "    </tr>\n",
       "    <tr>\n",
       "      <th>235</th>\n",
       "      <td>143</td>\n",
       "      <td>Empty Turquoise Baker</td>\n",
       "      <td>proveedor_1</td>\n",
       "      <td>Shop</td>\n",
       "      <td>Nabargus</td>\n",
       "      <td>OCCIDENTE</td>\n",
       "    </tr>\n",
       "    <tr>\n",
       "      <th>2409</th>\n",
       "      <td>2568</td>\n",
       "      <td>Impressive Coral BigCom</td>\n",
       "      <td>proveedor_2</td>\n",
       "      <td>Grocery</td>\n",
       "      <td>Mobartho</td>\n",
       "      <td>PENÍNSULA</td>\n",
       "    </tr>\n",
       "    <tr>\n",
       "      <th>2422</th>\n",
       "      <td>2568</td>\n",
       "      <td>Impressive Coral BigCom</td>\n",
       "      <td>proveedor_2</td>\n",
       "      <td>Grocery</td>\n",
       "      <td>Mobartho</td>\n",
       "      <td>PENÍNSULA</td>\n",
       "    </tr>\n",
       "  </tbody>\n",
       "</table>\n",
       "</div>"
      ],
      "text/plain": [
       "      NUM TDA            NOMBRE DE TDA       CADENA  FORMATO    ESTADO  \\\n",
       "115       143    Empty Turquoise Baker  proveedor_1     Shop   Egusgul   \n",
       "235       143    Empty Turquoise Baker  proveedor_1     Shop  Nabargus   \n",
       "2409     2568  Impressive Coral BigCom  proveedor_2  Grocery  Mobartho   \n",
       "2422     2568  Impressive Coral BigCom  proveedor_2  Grocery  Mobartho   \n",
       "\n",
       "       DIVISION  \n",
       "115    NOROESTE  \n",
       "235   OCCIDENTE  \n",
       "2409  PENÍNSULA  \n",
       "2422  PENÍNSULA  "
      ]
     },
     "execution_count": 6,
     "metadata": {},
     "output_type": "execute_result"
    }
   ],
   "source": [
    "# Identificar posibles duplicados\n",
    "clientes[clientes.duplicated(subset=[\"NUM TDA\",\"CADENA\"], keep=False)]"
   ]
  },
  {
   "cell_type": "markdown",
   "id": "efe88049-9aed-4e88-b4b7-95e732be2046",
   "metadata": {
    "pycharm": {
     "name": "#%% md\n"
    }
   },
   "source": [
    "Para el TDA número **143** pareciera que el cliente se cambió de estado.\n",
    "El TDA número **2568** parece que se repitio por alguna razor.\n",
    "\n",
    "En el siguiente paso vamos a quedarnos con el último valor en ambos casos asumiendo que corresponde al valor más actualizado. De no hacerlo tendriamos un error al unir la tabla de ventas a esta porque tenemos que usar el `NUM TDA`"
   ]
  },
  {
   "cell_type": "markdown",
   "id": "98df5a52-8214-4b57-9c91-fb38eba35d6f",
   "metadata": {
    "jp-MarkdownHeadingCollapsed": true,
    "tags": [],
    "pycharm": {
     "name": "#%% md\n"
    }
   },
   "source": [
    "### 1.1.1 Correcciones"
   ]
  },
  {
   "cell_type": "markdown",
   "id": "cc706a72-b820-4466-8bd8-d3ede60b6199",
   "metadata": {
    "pycharm": {
     "name": "#%% md\n"
    }
   },
   "source": [
    "La tabla `clientes` valores nulos aparentes. Los cambios que podriamos hacer son para mejorar el tipo de datos.\n",
    "1. Aqui `NUM TDA` parece ser la unica columna numerica. Vamos a hacer un downcast de sus valores.\n",
    "2. Las demás columnas pueden ser catalogos\n",
    "3. Quitar los duplicados"
   ]
  },
  {
   "cell_type": "code",
   "execution_count": 7,
   "id": "58486534-1891-410b-8404-7d3dc53854f4",
   "metadata": {
    "pycharm": {
     "name": "#%%\n"
    }
   },
   "outputs": [],
   "source": [
    "clientes = fun.downcaster(clientes)  # Hace más pequeño el espacio que ocupa en memoria."
   ]
  },
  {
   "cell_type": "code",
   "execution_count": 8,
   "id": "992cdfa3-5b65-4377-9b18-23fde9dba403",
   "metadata": {
    "pycharm": {
     "name": "#%%\n"
    }
   },
   "outputs": [],
   "source": [
    "# Cambia las columnas seleccionadas a categorias\n",
    "_obj_cols = clientes.select_dtypes(\"O\").columns  # Selecciona las columnas\n",
    "clientes = fun.to_categorical(clientes, _obj_cols)  # Combiertelas a dato de categoria"
   ]
  },
  {
   "cell_type": "code",
   "execution_count": 9,
   "id": "7f1860b1-85f2-410d-8079-9a19bbfaadd8",
   "metadata": {
    "pycharm": {
     "name": "#%%\n"
    }
   },
   "outputs": [],
   "source": [
    "# Quitar duplicados\n",
    "clientes.drop_duplicates(\n",
    "    subset=[\"NUM TDA\",\"CADENA\"],\n",
    "    keep=\"last\",\n",
    "    inplace=True,\n",
    "    ignore_index=False  # Para que el index nos sirva de referencia al index del archivo original\n",
    ")"
   ]
  },
  {
   "cell_type": "code",
   "execution_count": 10,
   "id": "fe90c513-e0a4-4a94-80e0-4368de880353",
   "metadata": {
    "pycharm": {
     "name": "#%%\n"
    }
   },
   "outputs": [
    {
     "name": "stdout",
     "output_type": "stream",
     "text": [
      "<class 'pandas.core.frame.DataFrame'>\n",
      "Int64Index: 2450 entries, 0 to 2451\n",
      "Data columns (total 6 columns):\n",
      " #   Column         Non-Null Count  Dtype   \n",
      "---  ------         --------------  -----   \n",
      " 0   NUM TDA        2450 non-null   int16   \n",
      " 1   NOMBRE DE TDA  2450 non-null   category\n",
      " 2   CADENA         2450 non-null   category\n",
      " 3   FORMATO        2450 non-null   category\n",
      " 4   ESTADO         2450 non-null   category\n",
      " 5   DIVISION       2450 non-null   category\n",
      "dtypes: category(5), int16(1)\n",
      "memory usage: 123.9 KB\n"
     ]
    }
   ],
   "source": [
    "clientes.info()  # Revisamos el resultado final para esta DataFrame"
   ]
  },
  {
   "cell_type": "markdown",
   "id": "2cf36b42-691a-4720-a269-dbb9509ca4f7",
   "metadata": {
    "jp-MarkdownHeadingCollapsed": true,
    "tags": [],
    "pycharm": {
     "name": "#%% md\n"
    }
   },
   "source": [
    "## 1.2 Productos"
   ]
  },
  {
   "cell_type": "markdown",
   "source": [
    "De nueva cuenta vamos a revisar los 3 puntos anteriores:\n",
    "\n",
    "1. Eliminar simbolos que eviten numeros interpretarse adecuadamente.\n",
    "2. Convertir tipos de datos a formatos más adecuados para su uso y de ser posibles también más adecuados para su almacenamiento.\n",
    "3. Validar que si existan duplicados en las tablas de catálogo."
   ],
   "metadata": {
    "collapsed": false,
    "pycharm": {
     "name": "#%% md\n"
    }
   }
  },
  {
   "cell_type": "code",
   "execution_count": 11,
   "id": "ddc61331-e1c3-44ce-be8f-6abf97962a9e",
   "metadata": {
    "pycharm": {
     "name": "#%%\n"
    }
   },
   "outputs": [
    {
     "data": {
      "text/html": [
       "<div>\n",
       "<style scoped>\n",
       "    .dataframe tbody tr th:only-of-type {\n",
       "        vertical-align: middle;\n",
       "    }\n",
       "\n",
       "    .dataframe tbody tr th {\n",
       "        vertical-align: top;\n",
       "    }\n",
       "\n",
       "    .dataframe thead th {\n",
       "        text-align: right;\n",
       "    }\n",
       "</style>\n",
       "<table border=\"1\" class=\"dataframe\">\n",
       "  <thead>\n",
       "    <tr style=\"text-align: right;\">\n",
       "      <th></th>\n",
       "      <th>Sku</th>\n",
       "      <th>Sku_Description</th>\n",
       "      <th>Sku_Category</th>\n",
       "      <th>Sku_Subcategory</th>\n",
       "    </tr>\n",
       "  </thead>\n",
       "  <tbody>\n",
       "    <tr>\n",
       "      <th>33</th>\n",
       "      <td>347635</td>\n",
       "      <td>Frosted Banana Choc-Chip</td>\n",
       "      <td>Sugar-free</td>\n",
       "      <td>Cereal bars</td>\n",
       "    </tr>\n",
       "  </tbody>\n",
       "</table>\n",
       "</div>"
      ],
      "text/plain": [
       "       Sku           Sku_Description Sku_Category Sku_Subcategory\n",
       "33  347635  Frosted Banana Choc-Chip   Sugar-free     Cereal bars"
      ]
     },
     "execution_count": 11,
     "metadata": {},
     "output_type": "execute_result"
    }
   ],
   "source": [
    "# Leemos los datos\n",
    "productos = pd.read_csv('./data/maestro_productos.csv', index_col=0)\n",
    "productos.sample()"
   ]
  },
  {
   "cell_type": "code",
   "execution_count": 12,
   "id": "89ed1936-3bf5-4711-8296-a3db7fa0e47d",
   "metadata": {
    "pycharm": {
     "name": "#%%\n"
    }
   },
   "outputs": [
    {
     "name": "stdout",
     "output_type": "stream",
     "text": [
      "<class 'pandas.core.frame.DataFrame'>\n",
      "Int64Index: 1242 entries, 0 to 1241\n",
      "Data columns (total 4 columns):\n",
      " #   Column           Non-Null Count  Dtype \n",
      "---  ------           --------------  ----- \n",
      " 0   Sku              1242 non-null   int64 \n",
      " 1   Sku_Description  1242 non-null   object\n",
      " 2   Sku_Category     1242 non-null   object\n",
      " 3   Sku_Subcategory  1242 non-null   object\n",
      "dtypes: int64(1), object(3)\n",
      "memory usage: 48.5+ KB\n"
     ]
    }
   ],
   "source": [
    "productos.info()  # Vemos como se están cargando y si hay nulos"
   ]
  },
  {
   "cell_type": "markdown",
   "source": [
    "De nuevo vamos a contar cuantos valores unicos tenemos para saber si es posible convertir algunos a categorias.\n",
    "\n",
    "Para este catálogo si es posible convertir:\n",
    "Sku_Category, Sku_Subcategory ya que son presisamente categorias son pocos valores diferentes. Al contrario de la descripcion que dejaremos como esta."
   ],
   "metadata": {
    "collapsed": false,
    "pycharm": {
     "name": "#%% md\n"
    }
   }
  },
  {
   "cell_type": "code",
   "execution_count": 13,
   "id": "6072b7bf-2048-47f2-8739-40dfd95029ab",
   "metadata": {
    "pycharm": {
     "name": "#%%\n"
    }
   },
   "outputs": [
    {
     "data": {
      "text/plain": [
       "Sku                1242\n",
       "Sku_Description    1242\n",
       "Sku_Category          2\n",
       "Sku_Subcategory       3\n",
       "dtype: int64"
      ]
     },
     "execution_count": 13,
     "metadata": {},
     "output_type": "execute_result"
    }
   ],
   "source": [
    "productos.nunique()"
   ]
  },
  {
   "cell_type": "markdown",
   "source": [
    "La siguiente parte la hacemos para buscar de manera rapida valores nulos que esten como texto porque algunas ocaciones los valores nulos están como: -9999, NA, 0000, -1, etc.\n",
    "\n",
    "Cuando esto sucede generalmente son muy notorios y se observan facilmente calculando la frecuencia con que aparece cada valor."
   ],
   "metadata": {
    "collapsed": false,
    "pycharm": {
     "name": "#%% md\n"
    }
   }
  },
  {
   "cell_type": "code",
   "execution_count": 14,
   "outputs": [
    {
     "data": {
      "text/plain": [
       "Frosted Mango                       1\n",
       "Frosted cherry                      1\n",
       "Peanut Butter cherry                1\n",
       "Sugar cherry                        1\n",
       "Graham cherry                       1\n",
       "                                   ..\n",
       "Fruit & Bran Chocolate              1\n",
       "Double Dip Crunch Chocolate         1\n",
       "Crunchy Nut Cornflakes Chocolate    1\n",
       "Crunchy Bran Chocolate              1\n",
       "Gorilla Chilifest Chocolate         1\n",
       "Name: Sku_Description, Length: 1242, dtype: int64"
      ]
     },
     "execution_count": 14,
     "metadata": {},
     "output_type": "execute_result"
    }
   ],
   "source": [
    "_ = \"Sku_Description\"\n",
    "productos[_].value_counts()"
   ],
   "metadata": {
    "collapsed": false,
    "pycharm": {
     "name": "#%%\n"
    }
   }
  },
  {
   "cell_type": "markdown",
   "source": [],
   "metadata": {
    "collapsed": false,
    "pycharm": {
     "name": "#%% md\n"
    }
   }
  },
  {
   "cell_type": "code",
   "execution_count": 15,
   "id": "bf124ae7-32a6-4596-b7e3-2a96c4b3960c",
   "metadata": {
    "pycharm": {
     "name": "#%%\n"
    }
   },
   "outputs": [
    {
     "data": {
      "text/html": [
       "<div>\n",
       "<style scoped>\n",
       "    .dataframe tbody tr th:only-of-type {\n",
       "        vertical-align: middle;\n",
       "    }\n",
       "\n",
       "    .dataframe tbody tr th {\n",
       "        vertical-align: top;\n",
       "    }\n",
       "\n",
       "    .dataframe thead th {\n",
       "        text-align: right;\n",
       "    }\n",
       "</style>\n",
       "<table border=\"1\" class=\"dataframe\">\n",
       "  <thead>\n",
       "    <tr style=\"text-align: right;\">\n",
       "      <th></th>\n",
       "      <th>Sku</th>\n",
       "      <th>Sku_Description</th>\n",
       "      <th>Sku_Category</th>\n",
       "      <th>Sku_Subcategory</th>\n",
       "    </tr>\n",
       "  </thead>\n",
       "  <tbody>\n",
       "  </tbody>\n",
       "</table>\n",
       "</div>"
      ],
      "text/plain": [
       "Empty DataFrame\n",
       "Columns: [Sku, Sku_Description, Sku_Category, Sku_Subcategory]\n",
       "Index: []"
      ]
     },
     "execution_count": 15,
     "metadata": {},
     "output_type": "execute_result"
    }
   ],
   "source": [
    "# Identificar posibles duplicados\n",
    "productos[productos.duplicated(subset=[\"Sku\"], keep=False)]"
   ]
  },
  {
   "cell_type": "markdown",
   "id": "4b93f3d7-bf60-424a-a04f-075410d9a286",
   "metadata": {
    "pycharm": {
     "name": "#%% md\n"
    }
   },
   "source": [
    "¡Perfecto, no tiene duplicados!"
   ]
  },
  {
   "cell_type": "markdown",
   "id": "3586bfe4-0394-43b6-a944-e282af74d420",
   "metadata": {
    "pycharm": {
     "name": "#%% md\n"
    }
   },
   "source": [
    "### 1.2.1 Correcciones"
   ]
  },
  {
   "cell_type": "markdown",
   "id": "2b7df814-fe69-45fb-8ddd-74d515f9aec3",
   "metadata": {
    "pycharm": {
     "name": "#%% md\n"
    }
   },
   "source": [
    "Los datos para `productos` no traen valores nulos.\n",
    "\n",
    "Podriamos mejorar el tipo de dato:\n",
    "1. Reduciendo el tipo de dato numerico a alguno que ocupe menos espacio.\n",
    "2. Cambiando texto por categorias"
   ]
  },
  {
   "cell_type": "code",
   "execution_count": 16,
   "id": "e32ecd7c-3281-4e08-9069-3b9008f12f51",
   "metadata": {
    "pycharm": {
     "name": "#%%\n"
    }
   },
   "outputs": [],
   "source": [
    "productos = fun.downcaster(productos)  # busca reducir tipos de datos numericos a unos mas ligeros"
   ]
  },
  {
   "cell_type": "markdown",
   "source": [
    "Ya que esta tabla corresponde a un catálogo no deberia tener valores duplicados, esta tabla no los tiene lo cual es muy bueno."
   ],
   "metadata": {
    "collapsed": false,
    "pycharm": {
     "name": "#%% md\n"
    }
   }
  },
  {
   "cell_type": "code",
   "execution_count": 17,
   "id": "721b271e-924f-476b-b326-e17001abd0b0",
   "metadata": {
    "pycharm": {
     "name": "#%%\n"
    }
   },
   "outputs": [],
   "source": [
    "# Cambia las columnas seleccionadas a categorias\n",
    "_obj_cols = [\"Sku_Category\", \"Sku_Subcategory\"]  # Selecciona las columnas\n",
    "productos = fun.to_categorical(productos, _obj_cols)  # Conviertelas a dato de categoria"
   ]
  },
  {
   "cell_type": "code",
   "execution_count": 18,
   "id": "67dc6689-8b0a-4635-b383-2be4ceaf0c75",
   "metadata": {
    "pycharm": {
     "name": "#%%\n"
    }
   },
   "outputs": [
    {
     "name": "stdout",
     "output_type": "stream",
     "text": [
      "<class 'pandas.core.frame.DataFrame'>\n",
      "Int64Index: 1242 entries, 0 to 1241\n",
      "Data columns (total 4 columns):\n",
      " #   Column           Non-Null Count  Dtype   \n",
      "---  ------           --------------  -----   \n",
      " 0   Sku              1242 non-null   int32   \n",
      " 1   Sku_Description  1242 non-null   object  \n",
      " 2   Sku_Category     1242 non-null   category\n",
      " 3   Sku_Subcategory  1242 non-null   category\n",
      "dtypes: category(2), int32(1), object(1)\n",
      "memory usage: 26.9+ KB\n"
     ]
    }
   ],
   "source": [
    "productos.info()"
   ]
  },
  {
   "cell_type": "markdown",
   "id": "f02891fc-208f-4be5-a4ff-0c6d19feff43",
   "metadata": {
    "tags": [],
    "pycharm": {
     "name": "#%% md\n"
    }
   },
   "source": [
    "## 1.3 Proveedores"
   ]
  },
  {
   "cell_type": "markdown",
   "id": "e638e9da-dc83-401f-b8af-fbc2ade72687",
   "metadata": {
    "pycharm": {
     "name": "#%% md\n"
    }
   },
   "source": [
    "Tenemos dos archivos de proveedores, vamos a juntarlos en uno solo.\n",
    "\n",
    "Aunque parece ser del mismo proveedor, pero de años diferentes, voy a tratarlos como si fueran proveedores distintos a falta de mayor informacion del negocio."
   ]
  },
  {
   "cell_type": "markdown",
   "id": "fdd5167a-eba6-4d9f-b5c3-cc31c916aa7d",
   "metadata": {
    "jp-MarkdownHeadingCollapsed": true,
    "tags": [],
    "pycharm": {
     "name": "#%% md\n"
    }
   },
   "source": [
    "### 1.3.1 Proveedor 1"
   ]
  },
  {
   "cell_type": "markdown",
   "source": [
    "Para los datos del archivo de proveedor 1 revisemos que las columnas se interpreten de manera adecuada segun su tipo de dato. Y de ser posible también intentemos reducir su espacio en memoria como lo hemos hecho antes."
   ],
   "metadata": {
    "collapsed": false,
    "pycharm": {
     "name": "#%% md\n"
    }
   }
  },
  {
   "cell_type": "code",
   "execution_count": 19,
   "id": "0cab6349-054a-4083-b6a4-ba88ec9a9b51",
   "metadata": {
    "pycharm": {
     "name": "#%%\n"
    }
   },
   "outputs": [
    {
     "data": {
      "text/html": [
       "<div>\n",
       "<style scoped>\n",
       "    .dataframe tbody tr th:only-of-type {\n",
       "        vertical-align: middle;\n",
       "    }\n",
       "\n",
       "    .dataframe tbody tr th {\n",
       "        vertical-align: top;\n",
       "    }\n",
       "\n",
       "    .dataframe thead th {\n",
       "        text-align: right;\n",
       "    }\n",
       "</style>\n",
       "<table border=\"1\" class=\"dataframe\">\n",
       "  <thead>\n",
       "    <tr style=\"text-align: right;\">\n",
       "      <th></th>\n",
       "      <th>Sku</th>\n",
       "      <th>Date</th>\n",
       "      <th>Store_Id</th>\n",
       "      <th>Units</th>\n",
       "      <th>Price</th>\n",
       "    </tr>\n",
       "  </thead>\n",
       "  <tbody>\n",
       "    <tr>\n",
       "      <th>1023288</th>\n",
       "      <td>4769520</td>\n",
       "      <td>2017-05-20 SO Diaria Piezas</td>\n",
       "      <td>668</td>\n",
       "      <td>0.4</td>\n",
       "      <td>59.0</td>\n",
       "    </tr>\n",
       "  </tbody>\n",
       "</table>\n",
       "</div>"
      ],
      "text/plain": [
       "             Sku                         Date  Store_Id  Units  Price\n",
       "1023288  4769520  2017-05-20 SO Diaria Piezas       668    0.4   59.0"
      ]
     },
     "execution_count": 19,
     "metadata": {},
     "output_type": "execute_result"
    }
   ],
   "source": [
    "proveedor_1 = pd.read_csv('./data/sellout-proveedor1.csv.gz',compression = 'gzip',sep = '|')\n",
    "proveedor_1.sample(3)"
   ]
  },
  {
   "cell_type": "code",
   "execution_count": 21,
   "id": "6df147fb-5531-43bb-af72-2902e83fc276",
   "metadata": {
    "pycharm": {
     "name": "#%%\n"
    }
   },
   "outputs": [
    {
     "name": "stdout",
     "output_type": "stream",
     "text": [
      "<class 'pandas.core.frame.DataFrame'>\n",
      "RangeIndex: 1206365 entries, 0 to 1206364\n",
      "Data columns (total 5 columns):\n",
      " #   Column    Non-Null Count    Dtype         \n",
      "---  ------    --------------    -----         \n",
      " 0   Sku       1206365 non-null  int64         \n",
      " 1   Date      1206365 non-null  datetime64[ns]\n",
      " 2   Store_Id  1206365 non-null  int64         \n",
      " 3   Units     1206365 non-null  float64       \n",
      " 4   Price     1206365 non-null  float64       \n",
      "dtypes: datetime64[ns](1), float64(2), int64(2)\n",
      "memory usage: 46.0 MB\n"
     ]
    }
   ],
   "source": [
    "proveedor_1.info()"
   ]
  },
  {
   "cell_type": "markdown",
   "id": "7dd6823a-e58f-446d-a434-be16356a1723",
   "metadata": {
    "pycharm": {
     "name": "#%% md\n"
    }
   },
   "source": [
    "Listo, la fecha se esta interpretando en su formato correcto que es datetime."
   ]
  },
  {
   "cell_type": "code",
   "execution_count": 22,
   "id": "3415bc51-cde8-4227-91f9-c1fd4c67500f",
   "metadata": {
    "pycharm": {
     "name": "#%%\n"
    }
   },
   "outputs": [
    {
     "data": {
      "text/plain": [
       "Sku           43\n",
       "Date         155\n",
       "Store_Id     241\n",
       "Units       2166\n",
       "Price       6946\n",
       "dtype: int64"
      ]
     },
     "execution_count": 22,
     "metadata": {},
     "output_type": "execute_result"
    }
   ],
   "source": [
    "proveedor_1.nunique()"
   ]
  },
  {
   "cell_type": "markdown",
   "id": "c76d32a4-c61d-40d2-abfe-841529f28b7d",
   "metadata": {
    "pycharm": {
     "name": "#%% md\n"
    }
   },
   "source": [
    "#### Correcciones para proveedor 1"
   ]
  },
  {
   "cell_type": "markdown",
   "id": "345c7f64-8c1a-4da0-8625-01199d6d91e5",
   "metadata": {
    "pycharm": {
     "name": "#%% md\n"
    }
   },
   "source": [
    "Para los datos de **Proveedor 1** tenemos que hacer 2 cambios:\n",
    "1. Agregar la columna de proveedor, para que al juntar las tablas de proveedores podamos distinguir de que proveedor viene.\n",
    "2. `Date` tiene un texto adicional que podemos eliminar para que se pueda reconocer como fecha.\n",
    "    - la fecha está separada por guiones, pero tiene un extra que vamos a agregar al formato.\n",
    "    <br> Esto quiere decir que la fecha tiene el formato `'%Y-%m-%d SO Diaria Piezas'`"
   ]
  },
  {
   "cell_type": "code",
   "execution_count": 23,
   "id": "080895e8-1ed3-4c03-8fe2-45fff02b93d2",
   "metadata": {
    "pycharm": {
     "name": "#%%\n"
    }
   },
   "outputs": [],
   "source": [
    "proveedor_1=proveedor_1.assign(proveedor=1)  # Agregamos el indicador de proveedor"
   ]
  },
  {
   "cell_type": "code",
   "execution_count": 20,
   "outputs": [],
   "source": [
    "# Corregimos la fecha\n",
    "proveedor_1[\"Date\"] = pd.to_datetime(proveedor_1['Date'],\n",
    "                                     format= '%Y-%m-%d SO Diaria Piezas')"
   ],
   "metadata": {
    "collapsed": false,
    "pycharm": {
     "name": "#%%\n"
    }
   }
  },
  {
   "cell_type": "code",
   "execution_count": 24,
   "id": "70734e0c-5f31-4b2e-a885-53b3f7c86490",
   "metadata": {
    "pycharm": {
     "name": "#%%\n"
    }
   },
   "outputs": [],
   "source": [
    "proveedor_1 = fun.downcaster(proveedor_1)  # hacemos los datos numericos más ligeros."
   ]
  },
  {
   "cell_type": "markdown",
   "id": "9cc0be10-c4dc-4aa7-a4a1-dbb56cbb109f",
   "metadata": {
    "pycharm": {
     "name": "#%% md\n"
    }
   },
   "source": [
    "Estas son todas las modificaciones necesarias hasta el momento. No parece necesario cambiar.\n",
    "\n",
    "Observamos que las transacciones de este set de datos son durante 2017.\n",
    "- Inicia en 2017\n",
    "- Termina a mediados del mismo 2017."
   ]
  },
  {
   "cell_type": "code",
   "execution_count": 25,
   "id": "b20733fc-3590-413a-859a-39c98dabc970",
   "metadata": {
    "pycharm": {
     "name": "#%%\n"
    }
   },
   "outputs": [
    {
     "name": "stderr",
     "output_type": "stream",
     "text": [
      "/tmp/ipykernel_1541/1504330057.py:1: FutureWarning: Treating datetime data as categorical rather than numeric in `.describe` is deprecated and will be removed in a future version of pandas. Specify `datetime_is_numeric=True` to silence this warning and adopt the future behavior now.\n",
      "  proveedor_1.describe(include='datetime')\n"
     ]
    },
    {
     "data": {
      "text/html": [
       "<div>\n",
       "<style scoped>\n",
       "    .dataframe tbody tr th:only-of-type {\n",
       "        vertical-align: middle;\n",
       "    }\n",
       "\n",
       "    .dataframe tbody tr th {\n",
       "        vertical-align: top;\n",
       "    }\n",
       "\n",
       "    .dataframe thead th {\n",
       "        text-align: right;\n",
       "    }\n",
       "</style>\n",
       "<table border=\"1\" class=\"dataframe\">\n",
       "  <thead>\n",
       "    <tr style=\"text-align: right;\">\n",
       "      <th></th>\n",
       "      <th>Date</th>\n",
       "    </tr>\n",
       "  </thead>\n",
       "  <tbody>\n",
       "    <tr>\n",
       "      <th>count</th>\n",
       "      <td>1206365</td>\n",
       "    </tr>\n",
       "    <tr>\n",
       "      <th>unique</th>\n",
       "      <td>155</td>\n",
       "    </tr>\n",
       "    <tr>\n",
       "      <th>top</th>\n",
       "      <td>2017-01-01 00:00:00</td>\n",
       "    </tr>\n",
       "    <tr>\n",
       "      <th>freq</th>\n",
       "      <td>7783</td>\n",
       "    </tr>\n",
       "    <tr>\n",
       "      <th>first</th>\n",
       "      <td>2017-01-01 00:00:00</td>\n",
       "    </tr>\n",
       "    <tr>\n",
       "      <th>last</th>\n",
       "      <td>2017-06-04 00:00:00</td>\n",
       "    </tr>\n",
       "  </tbody>\n",
       "</table>\n",
       "</div>"
      ],
      "text/plain": [
       "                       Date\n",
       "count               1206365\n",
       "unique                  155\n",
       "top     2017-01-01 00:00:00\n",
       "freq                   7783\n",
       "first   2017-01-01 00:00:00\n",
       "last    2017-06-04 00:00:00"
      ]
     },
     "execution_count": 25,
     "metadata": {},
     "output_type": "execute_result"
    }
   ],
   "source": [
    "proveedor_1.describe(include='datetime')"
   ]
  },
  {
   "cell_type": "markdown",
   "id": "6bf98c04-b30a-40c1-88db-1c56181f83d9",
   "metadata": {
    "pycharm": {
     "name": "#%% md\n"
    }
   },
   "source": [
    "Validamos el resultado"
   ]
  },
  {
   "cell_type": "code",
   "execution_count": 26,
   "id": "72abfadf-51dc-49e8-9e7c-0a92894e9158",
   "metadata": {
    "pycharm": {
     "name": "#%%\n"
    }
   },
   "outputs": [
    {
     "name": "stdout",
     "output_type": "stream",
     "text": [
      "<class 'pandas.core.frame.DataFrame'>\n",
      "RangeIndex: 1206365 entries, 0 to 1206364\n",
      "Data columns (total 6 columns):\n",
      " #   Column     Non-Null Count    Dtype         \n",
      "---  ------     --------------    -----         \n",
      " 0   Sku        1206365 non-null  int32         \n",
      " 1   Date       1206365 non-null  datetime64[ns]\n",
      " 2   Store_Id   1206365 non-null  int16         \n",
      " 3   Units      1206365 non-null  float32       \n",
      " 4   Price      1206365 non-null  float32       \n",
      " 5   proveedor  1206365 non-null  int8          \n",
      "dtypes: datetime64[ns](1), float32(2), int16(1), int32(1), int8(1)\n",
      "memory usage: 26.5 MB\n"
     ]
    }
   ],
   "source": [
    "proveedor_1.info()"
   ]
  },
  {
   "cell_type": "markdown",
   "id": "a5b7cd37-f5e0-4b60-b8b9-320eea7caa5f",
   "metadata": {
    "jp-MarkdownHeadingCollapsed": true,
    "tags": [],
    "pycharm": {
     "name": "#%% md\n"
    }
   },
   "source": [
    "### 1.3.2 Proveedor 2"
   ]
  },
  {
   "cell_type": "markdown",
   "source": [
    "Similar a lo que hicimos con Proveedor 1, vamos a tener los siguientes ajustes:\n",
    "- Ya que vamos a unir los datos, agregaremos una columna con el indicador de proveedor, para que al juntar las tablas a cuál proveedor corresponde cada transaccion.\n",
    "\n",
    "Tenemos que hacer validaciones para saber que la informacion va a empatar correctamente entre las dos tablas."
   ],
   "metadata": {
    "collapsed": false,
    "pycharm": {
     "name": "#%% md\n"
    }
   }
  },
  {
   "cell_type": "code",
   "execution_count": 27,
   "id": "11d5ae14-c84c-4f90-a378-b91f8e9c64dc",
   "metadata": {
    "pycharm": {
     "name": "#%%\n"
    }
   },
   "outputs": [
    {
     "data": {
      "text/html": [
       "<div>\n",
       "<style scoped>\n",
       "    .dataframe tbody tr th:only-of-type {\n",
       "        vertical-align: middle;\n",
       "    }\n",
       "\n",
       "    .dataframe tbody tr th {\n",
       "        vertical-align: top;\n",
       "    }\n",
       "\n",
       "    .dataframe thead th {\n",
       "        text-align: right;\n",
       "    }\n",
       "</style>\n",
       "<table border=\"1\" class=\"dataframe\">\n",
       "  <thead>\n",
       "    <tr style=\"text-align: right;\">\n",
       "      <th></th>\n",
       "      <th>Sku</th>\n",
       "      <th>Date</th>\n",
       "      <th>Store_Id</th>\n",
       "      <th>Pieces</th>\n",
       "      <th>Price</th>\n",
       "    </tr>\n",
       "  </thead>\n",
       "  <tbody>\n",
       "    <tr>\n",
       "      <th>4288926</th>\n",
       "      <td>4645560</td>\n",
       "      <td>2016/02/20</td>\n",
       "      <td>1015</td>\n",
       "      <td>0.5</td>\n",
       "      <td>$6.50</td>\n",
       "    </tr>\n",
       "  </tbody>\n",
       "</table>\n",
       "</div>"
      ],
      "text/plain": [
       "             Sku        Date  Store_Id  Pieces  Price\n",
       "4288926  4645560  2016/02/20      1015     0.5  $6.50"
      ]
     },
     "execution_count": 27,
     "metadata": {},
     "output_type": "execute_result"
    }
   ],
   "source": [
    "proveedor_2 = pd.read_csv('./data/sellout-proveedor2.csv.gz',compression = 'gzip',sep = '|')\n",
    "proveedor_2.sample()"
   ]
  },
  {
   "cell_type": "code",
   "execution_count": 28,
   "id": "b7a46992-58b4-40f7-a6b4-3aebffae0a9f",
   "metadata": {
    "pycharm": {
     "name": "#%%\n"
    }
   },
   "outputs": [
    {
     "name": "stdout",
     "output_type": "stream",
     "text": [
      "<class 'pandas.core.frame.DataFrame'>\n",
      "RangeIndex: 4862029 entries, 0 to 4862028\n",
      "Data columns (total 5 columns):\n",
      " #   Column    Dtype  \n",
      "---  ------    -----  \n",
      " 0   Sku       int64  \n",
      " 1   Date      object \n",
      " 2   Store_Id  int64  \n",
      " 3   Pieces    float64\n",
      " 4   Price     object \n",
      "dtypes: float64(1), int64(2), object(2)\n",
      "memory usage: 185.5+ MB\n"
     ]
    }
   ],
   "source": [
    "proveedor_2.info()"
   ]
  },
  {
   "cell_type": "code",
   "execution_count": 29,
   "id": "f4b31d1e-eef0-4797-81af-51ea305bb0e9",
   "metadata": {
    "pycharm": {
     "name": "#%%\n"
    }
   },
   "outputs": [
    {
     "data": {
      "text/plain": [
       "Sku           33\n",
       "Date         242\n",
       "Store_Id    2085\n",
       "Pieces      3101\n",
       "Price       3401\n",
       "dtype: int64"
      ]
     },
     "execution_count": 29,
     "metadata": {},
     "output_type": "execute_result"
    }
   ],
   "source": [
    "proveedor_2.nunique()"
   ]
  },
  {
   "cell_type": "markdown",
   "id": "3c0fd98e-898b-415b-a613-29b09cc34289",
   "metadata": {
    "tags": [],
    "pycharm": {
     "name": "#%% md\n"
    }
   },
   "source": [
    "#### Correcciones para proveedor 2"
   ]
  },
  {
   "cell_type": "markdown",
   "id": "214865e8-ebc0-41df-9bf5-ef116bace002",
   "metadata": {
    "pycharm": {
     "name": "#%% md\n"
    }
   },
   "source": [
    "Para los datos de proveedor 2 vamos a arreglar 4 cosas para que las columnas esten en el tipo de dato correcto:\n",
    "1. Agregar la columna de proveedor, para que al juntar las tablas de proveedores podamos distinguir a quien corresponde.\n",
    "2. Renombrar la columna `Pieces` a `Units` para que coincida con las columnas de **Proveedor 1**\n",
    "3. De `Price` vamos a eliminar el simbolo de moneda `$` para entonces interpretar el dato como un número.\n",
    "4. Interpretar\n",
    "5. la fecha con el formato correcto.\n",
    "    - La fecha para proveedor 2 está en formato `'%Y/%m/%d'`\n",
    "6. Después vamos a intentar reducir los valores numericos como lo hemos hecho antes con la funcion `downcaster`"
   ]
  },
  {
   "cell_type": "code",
   "execution_count": 30,
   "id": "13310131-a699-40dc-b697-d5bb8d60511d",
   "metadata": {
    "pycharm": {
     "name": "#%%\n"
    }
   },
   "outputs": [],
   "source": [
    "proveedor_2=proveedor_2.assign(proveedor=2)"
   ]
  },
  {
   "cell_type": "code",
   "execution_count": 31,
   "id": "077b501f-5330-42a9-bb1a-27894a210c70",
   "metadata": {
    "pycharm": {
     "name": "#%%\n"
    }
   },
   "outputs": [],
   "source": [
    "# Renombrar columna\n",
    "proveedor_2.rename(\n",
    "    {'Pieces':'Units'},\n",
    "    axis = 'columns',\n",
    "    inplace=True\n",
    ")"
   ]
  },
  {
   "cell_type": "code",
   "execution_count": 32,
   "id": "b16117c0-a715-4f56-8cae-13b5beecc350",
   "metadata": {
    "pycharm": {
     "name": "#%%\n"
    }
   },
   "outputs": [
    {
     "name": "stderr",
     "output_type": "stream",
     "text": [
      "/tmp/ipykernel_1541/44012814.py:2: FutureWarning: The default value of regex will change from True to False in a future version. In addition, single character regular expressions will *not* be treated as literal strings when regex=True.\n",
      "  proveedor_2['Price'] = proveedor_2['Price'].str.replace('$','').astype(float)\n"
     ]
    }
   ],
   "source": [
    "# Quitar el simbolo de moneda $ de \"Price\" para poderlo interpretar como un número\n",
    "proveedor_2['Price'] = proveedor_2['Price'].str.replace('$','').astype(float)"
   ]
  },
  {
   "cell_type": "code",
   "execution_count": 33,
   "id": "41cf8486-723d-457d-a39f-1a0491892951",
   "metadata": {
    "pycharm": {
     "name": "#%%\n"
    }
   },
   "outputs": [],
   "source": [
    "proveedor_2['Date'] = pd.to_datetime(proveedor_2['Date'],\n",
    "                                     format = '%Y/%m/%d')"
   ]
  },
  {
   "cell_type": "code",
   "execution_count": 34,
   "id": "9f4d6a1f-cc47-42d0-a09f-7d5d4a0e99c5",
   "metadata": {
    "pycharm": {
     "name": "#%%\n"
    }
   },
   "outputs": [],
   "source": [
    "proveedor_2 = fun.downcaster(proveedor_2)"
   ]
  },
  {
   "cell_type": "code",
   "execution_count": 35,
   "id": "57c15831-e52d-4ed0-8058-436ff4d1d9da",
   "metadata": {
    "pycharm": {
     "name": "#%%\n"
    }
   },
   "outputs": [
    {
     "name": "stderr",
     "output_type": "stream",
     "text": [
      "/tmp/ipykernel_1541/2620815600.py:1: FutureWarning: Treating datetime data as categorical rather than numeric in `.describe` is deprecated and will be removed in a future version of pandas. Specify `datetime_is_numeric=True` to silence this warning and adopt the future behavior now.\n",
      "  proveedor_2.describe(include='datetime')\n"
     ]
    },
    {
     "data": {
      "text/html": [
       "<div>\n",
       "<style scoped>\n",
       "    .dataframe tbody tr th:only-of-type {\n",
       "        vertical-align: middle;\n",
       "    }\n",
       "\n",
       "    .dataframe tbody tr th {\n",
       "        vertical-align: top;\n",
       "    }\n",
       "\n",
       "    .dataframe thead th {\n",
       "        text-align: right;\n",
       "    }\n",
       "</style>\n",
       "<table border=\"1\" class=\"dataframe\">\n",
       "  <thead>\n",
       "    <tr style=\"text-align: right;\">\n",
       "      <th></th>\n",
       "      <th>Date</th>\n",
       "    </tr>\n",
       "  </thead>\n",
       "  <tbody>\n",
       "    <tr>\n",
       "      <th>count</th>\n",
       "      <td>4862029</td>\n",
       "    </tr>\n",
       "    <tr>\n",
       "      <th>unique</th>\n",
       "      <td>242</td>\n",
       "    </tr>\n",
       "    <tr>\n",
       "      <th>top</th>\n",
       "      <td>2016-12-04 00:00:00</td>\n",
       "    </tr>\n",
       "    <tr>\n",
       "      <th>freq</th>\n",
       "      <td>23225</td>\n",
       "    </tr>\n",
       "    <tr>\n",
       "      <th>first</th>\n",
       "      <td>2016-01-01 00:00:00</td>\n",
       "    </tr>\n",
       "    <tr>\n",
       "      <th>last</th>\n",
       "      <td>2016-12-30 00:00:00</td>\n",
       "    </tr>\n",
       "  </tbody>\n",
       "</table>\n",
       "</div>"
      ],
      "text/plain": [
       "                       Date\n",
       "count               4862029\n",
       "unique                  242\n",
       "top     2016-12-04 00:00:00\n",
       "freq                  23225\n",
       "first   2016-01-01 00:00:00\n",
       "last    2016-12-30 00:00:00"
      ]
     },
     "execution_count": 35,
     "metadata": {},
     "output_type": "execute_result"
    }
   ],
   "source": [
    "proveedor_2.describe(include='datetime')"
   ]
  },
  {
   "cell_type": "markdown",
   "id": "2bfdcf71-93cc-4c74-ad27-08893f7bd59b",
   "metadata": {
    "pycharm": {
     "name": "#%% md\n"
    }
   },
   "source": [
    "Inicia junto con el 2016, y termina el 30 de diciembre. Al parecer descansaron para año nuevo."
   ]
  },
  {
   "cell_type": "code",
   "execution_count": 36,
   "id": "066578a5-413b-4220-9b9f-e7725bc72c6f",
   "metadata": {
    "pycharm": {
     "name": "#%%\n"
    }
   },
   "outputs": [
    {
     "name": "stdout",
     "output_type": "stream",
     "text": [
      "<class 'pandas.core.frame.DataFrame'>\n",
      "RangeIndex: 4862029 entries, 0 to 4862028\n",
      "Data columns (total 6 columns):\n",
      " #   Column     Dtype         \n",
      "---  ------     -----         \n",
      " 0   Sku        int32         \n",
      " 1   Date       datetime64[ns]\n",
      " 2   Store_Id   int16         \n",
      " 3   Units      float32       \n",
      " 4   Price      float32       \n",
      " 5   proveedor  int8          \n",
      "dtypes: datetime64[ns](1), float32(2), int16(1), int32(1), int8(1)\n",
      "memory usage: 106.6 MB\n"
     ]
    }
   ],
   "source": [
    "proveedor_2.info()"
   ]
  },
  {
   "cell_type": "markdown",
   "id": "d05f8c5c-4ce5-490f-978d-da2312683ca3",
   "metadata": {
    "jp-MarkdownHeadingCollapsed": true,
    "tags": [],
    "pycharm": {
     "name": "#%% md\n"
    }
   },
   "source": [
    "### 1.3.3 Unir los datos de proveedores 1 y 2"
   ]
  },
  {
   "cell_type": "markdown",
   "id": "8665725b-4b8d-4178-b2c2-5d2735489ac9",
   "metadata": {
    "pycharm": {
     "name": "#%% md\n"
    }
   },
   "source": [
    "Parte de la solicitud es tener un dataset de proveedores, para esto es necesario juntar las dos tiendas en una sola.\n",
    "\n",
    "Una vez que corregimos los nombres de columnas y eliminamos simbolos no necesarios podemos hacer esto facilmente."
   ]
  },
  {
   "cell_type": "code",
   "execution_count": 37,
   "id": "b99158da",
   "metadata": {
    "scrolled": true,
    "pycharm": {
     "name": "#%%\n"
    }
   },
   "outputs": [
    {
     "name": "stdout",
     "output_type": "stream",
     "text": [
      "<class 'pandas.core.frame.DataFrame'>\n",
      "RangeIndex: 6068394 entries, 0 to 6068393\n",
      "Data columns (total 6 columns):\n",
      " #   Column     Dtype         \n",
      "---  ------     -----         \n",
      " 0   Sku        int32         \n",
      " 1   Date       datetime64[ns]\n",
      " 2   Store_Id   int16         \n",
      " 3   Units      float32       \n",
      " 4   Price      float32       \n",
      " 5   proveedor  int8          \n",
      "dtypes: datetime64[ns](1), float32(2), int16(1), int32(1), int8(1)\n",
      "memory usage: 133.1 MB\n"
     ]
    }
   ],
   "source": [
    "ventas = pd.concat(objs=[proveedor_1,\n",
    "                         proveedor_2],\n",
    "                 axis=0,\n",
    "                 ignore_index=True) # ignorar el índice es bueno para no tener índices repetidos\n",
    "ventas.info()"
   ]
  },
  {
   "cell_type": "markdown",
   "id": "bbded3b6-cd88-4d91-af6b-0c1fde3025df",
   "metadata": {
    "tags": [],
    "pycharm": {
     "name": "#%% md\n"
    }
   },
   "source": [
    "# 2 Calidad de datos"
   ]
  },
  {
   "cell_type": "markdown",
   "id": "b9a456ce-a111-4c4f-b0f7-23be97be284d",
   "metadata": {
    "pycharm": {
     "name": "#%% md\n"
    }
   },
   "source": [
    "Puntos importantes a tener en cuenta respecto a la calidad de datos:\n",
    "\n",
    "- Estos datos deben tener **ventas para todos los productos** del catálogo de productos.\n",
    "- Estos datos deben cubrir las **ventas en todo el país** de dos grupos de supermercados.\n",
    "- Estos datos deben tener **ventas diarias por producto**."
   ]
  },
  {
   "cell_type": "markdown",
   "id": "33bbebde-4e81-4070-b59c-d2a472231ea5",
   "metadata": {
    "tags": [],
    "pycharm": {
     "name": "#%% md\n"
    }
   },
   "source": [
    "## 2.1 Ventas para todos los productos"
   ]
  },
  {
   "cell_type": "code",
   "execution_count": 38,
   "id": "fb6940e4-0fbc-4d2d-96dd-2a795d605185",
   "metadata": {
    "pycharm": {
     "name": "#%%\n"
    }
   },
   "outputs": [
    {
     "name": "stdout",
     "output_type": "stream",
     "text": [
      "1195 productos sin ventas\n",
      "96.22% de un total de 1242\n"
     ]
    }
   ],
   "source": [
    "productos_vendidos = set(ventas[\"Sku\"].unique())\n",
    "catalogo_de_productos = set(productos[\"Sku\"].unique())\n",
    "sku_sin_ventas = catalogo_de_productos-productos_vendidos\n",
    "print(len(sku_sin_ventas), \"productos sin ventas\")\n",
    "print(f\"{len(sku_sin_ventas)/len(catalogo_de_productos):.2%} de un total de {len(catalogo_de_productos)}\")"
   ]
  },
  {
   "cell_type": "markdown",
   "id": "fe637369-be50-45f6-9396-4557aa26c26d",
   "metadata": {
    "tags": [],
    "pycharm": {
     "name": "#%% md\n"
    }
   },
   "source": [
    "## 2.2 Ventas para todo el pais en cada supermercado"
   ]
  },
  {
   "cell_type": "markdown",
   "id": "136a0554-7577-430a-b1c8-e2b29e538081",
   "metadata": {
    "pycharm": {
     "name": "#%% md\n"
    }
   },
   "source": [
    "Cuando revise los documentos note que hay algunos detalles en los datos:\n",
    "1. 0 en el valor de precio y/o piezas\n",
    "2. Fracciones de pieza: Piezas que no tienen un valor entero\n",
    "3. Sin clientes: Existen entradas de Store_Id que no están en ninguna entrada de clientes."
   ]
  },
  {
   "cell_type": "code",
   "execution_count": 39,
   "id": "d8fe51b9-2270-4d0d-b1a0-a963805c009e",
   "metadata": {
    "pycharm": {
     "name": "#%%\n"
    }
   },
   "outputs": [
    {
     "data": {
      "text/html": [
       "<div>\n",
       "<style scoped>\n",
       "    .dataframe tbody tr th:only-of-type {\n",
       "        vertical-align: middle;\n",
       "    }\n",
       "\n",
       "    .dataframe tbody tr th {\n",
       "        vertical-align: top;\n",
       "    }\n",
       "\n",
       "    .dataframe thead th {\n",
       "        text-align: right;\n",
       "    }\n",
       "</style>\n",
       "<table border=\"1\" class=\"dataframe\">\n",
       "  <thead>\n",
       "    <tr style=\"text-align: right;\">\n",
       "      <th></th>\n",
       "      <th>Sku</th>\n",
       "      <th>Date</th>\n",
       "      <th>Store_Id</th>\n",
       "      <th>Units</th>\n",
       "      <th>Price</th>\n",
       "      <th>proveedor</th>\n",
       "      <th>NUM TDA</th>\n",
       "      <th>NOMBRE DE TDA</th>\n",
       "      <th>CADENA</th>\n",
       "      <th>FORMATO</th>\n",
       "      <th>ESTADO</th>\n",
       "      <th>DIVISION</th>\n",
       "    </tr>\n",
       "  </thead>\n",
       "  <tbody>\n",
       "    <tr>\n",
       "      <th>0</th>\n",
       "      <td>4240039.0</td>\n",
       "      <td>2017-01-01</td>\n",
       "      <td>2.0</td>\n",
       "      <td>10.0</td>\n",
       "      <td>16.799999</td>\n",
       "      <td>1.0</td>\n",
       "      <td>2</td>\n",
       "      <td>Bloody Sea Green BookShop</td>\n",
       "      <td>proveedor_1</td>\n",
       "      <td>Shop</td>\n",
       "      <td>Coalmar</td>\n",
       "      <td>SURESTE</td>\n",
       "    </tr>\n",
       "    <tr>\n",
       "      <th>1</th>\n",
       "      <td>4240039.0</td>\n",
       "      <td>2017-01-02</td>\n",
       "      <td>2.0</td>\n",
       "      <td>43.0</td>\n",
       "      <td>16.799999</td>\n",
       "      <td>1.0</td>\n",
       "      <td>2</td>\n",
       "      <td>Bloody Sea Green BookShop</td>\n",
       "      <td>proveedor_1</td>\n",
       "      <td>Shop</td>\n",
       "      <td>Coalmar</td>\n",
       "      <td>SURESTE</td>\n",
       "    </tr>\n",
       "    <tr>\n",
       "      <th>2</th>\n",
       "      <td>4240039.0</td>\n",
       "      <td>2017-01-03</td>\n",
       "      <td>2.0</td>\n",
       "      <td>33.0</td>\n",
       "      <td>16.799999</td>\n",
       "      <td>1.0</td>\n",
       "      <td>2</td>\n",
       "      <td>Bloody Sea Green BookShop</td>\n",
       "      <td>proveedor_1</td>\n",
       "      <td>Shop</td>\n",
       "      <td>Coalmar</td>\n",
       "      <td>SURESTE</td>\n",
       "    </tr>\n",
       "    <tr>\n",
       "      <th>3</th>\n",
       "      <td>4240039.0</td>\n",
       "      <td>2017-01-04</td>\n",
       "      <td>2.0</td>\n",
       "      <td>15.0</td>\n",
       "      <td>16.799999</td>\n",
       "      <td>1.0</td>\n",
       "      <td>2</td>\n",
       "      <td>Bloody Sea Green BookShop</td>\n",
       "      <td>proveedor_1</td>\n",
       "      <td>Shop</td>\n",
       "      <td>Coalmar</td>\n",
       "      <td>SURESTE</td>\n",
       "    </tr>\n",
       "    <tr>\n",
       "      <th>4</th>\n",
       "      <td>4240039.0</td>\n",
       "      <td>2017-01-05</td>\n",
       "      <td>2.0</td>\n",
       "      <td>21.0</td>\n",
       "      <td>16.799999</td>\n",
       "      <td>1.0</td>\n",
       "      <td>2</td>\n",
       "      <td>Bloody Sea Green BookShop</td>\n",
       "      <td>proveedor_1</td>\n",
       "      <td>Shop</td>\n",
       "      <td>Coalmar</td>\n",
       "      <td>SURESTE</td>\n",
       "    </tr>\n",
       "    <tr>\n",
       "      <th>...</th>\n",
       "      <td>...</td>\n",
       "      <td>...</td>\n",
       "      <td>...</td>\n",
       "      <td>...</td>\n",
       "      <td>...</td>\n",
       "      <td>...</td>\n",
       "      <td>...</td>\n",
       "      <td>...</td>\n",
       "      <td>...</td>\n",
       "      <td>...</td>\n",
       "      <td>...</td>\n",
       "      <td>...</td>\n",
       "    </tr>\n",
       "    <tr>\n",
       "      <th>6046291</th>\n",
       "      <td>4442378.0</td>\n",
       "      <td>2016-12-27</td>\n",
       "      <td>1364.0</td>\n",
       "      <td>3.0</td>\n",
       "      <td>13.450000</td>\n",
       "      <td>2.0</td>\n",
       "      <td>1364</td>\n",
       "      <td>Legendary Blue AllInOne</td>\n",
       "      <td>proveedor_2</td>\n",
       "      <td>TinyShop</td>\n",
       "      <td>Gulvitval</td>\n",
       "      <td>NORESTE</td>\n",
       "    </tr>\n",
       "    <tr>\n",
       "      <th>6046292</th>\n",
       "      <td>4442378.0</td>\n",
       "      <td>2016-12-28</td>\n",
       "      <td>1364.0</td>\n",
       "      <td>2.0</td>\n",
       "      <td>13.450000</td>\n",
       "      <td>2.0</td>\n",
       "      <td>1364</td>\n",
       "      <td>Legendary Blue AllInOne</td>\n",
       "      <td>proveedor_2</td>\n",
       "      <td>TinyShop</td>\n",
       "      <td>Gulvitval</td>\n",
       "      <td>NORESTE</td>\n",
       "    </tr>\n",
       "    <tr>\n",
       "      <th>6046293</th>\n",
       "      <td>4442378.0</td>\n",
       "      <td>2016-12-29</td>\n",
       "      <td>1364.0</td>\n",
       "      <td>10.0</td>\n",
       "      <td>13.450000</td>\n",
       "      <td>2.0</td>\n",
       "      <td>1364</td>\n",
       "      <td>Legendary Blue AllInOne</td>\n",
       "      <td>proveedor_2</td>\n",
       "      <td>TinyShop</td>\n",
       "      <td>Gulvitval</td>\n",
       "      <td>NORESTE</td>\n",
       "    </tr>\n",
       "    <tr>\n",
       "      <th>6046294</th>\n",
       "      <td>4442378.0</td>\n",
       "      <td>2016-12-30</td>\n",
       "      <td>1364.0</td>\n",
       "      <td>5.0</td>\n",
       "      <td>13.450000</td>\n",
       "      <td>2.0</td>\n",
       "      <td>1364</td>\n",
       "      <td>Legendary Blue AllInOne</td>\n",
       "      <td>proveedor_2</td>\n",
       "      <td>TinyShop</td>\n",
       "      <td>Gulvitval</td>\n",
       "      <td>NORESTE</td>\n",
       "    </tr>\n",
       "    <tr>\n",
       "      <th>6046295</th>\n",
       "      <td>NaN</td>\n",
       "      <td>NaT</td>\n",
       "      <td>NaN</td>\n",
       "      <td>NaN</td>\n",
       "      <td>NaN</td>\n",
       "      <td>NaN</td>\n",
       "      <td>2338</td>\n",
       "      <td>Great Crimson Grocery</td>\n",
       "      <td>proveedor_2</td>\n",
       "      <td>TinyShop</td>\n",
       "      <td>Barthovit</td>\n",
       "      <td>NORESTE</td>\n",
       "    </tr>\n",
       "  </tbody>\n",
       "</table>\n",
       "<p>6046296 rows × 12 columns</p>\n",
       "</div>"
      ],
      "text/plain": [
       "               Sku       Date  Store_Id  Units      Price  proveedor  NUM TDA  \\\n",
       "0        4240039.0 2017-01-01       2.0   10.0  16.799999        1.0        2   \n",
       "1        4240039.0 2017-01-02       2.0   43.0  16.799999        1.0        2   \n",
       "2        4240039.0 2017-01-03       2.0   33.0  16.799999        1.0        2   \n",
       "3        4240039.0 2017-01-04       2.0   15.0  16.799999        1.0        2   \n",
       "4        4240039.0 2017-01-05       2.0   21.0  16.799999        1.0        2   \n",
       "...            ...        ...       ...    ...        ...        ...      ...   \n",
       "6046291  4442378.0 2016-12-27    1364.0    3.0  13.450000        2.0     1364   \n",
       "6046292  4442378.0 2016-12-28    1364.0    2.0  13.450000        2.0     1364   \n",
       "6046293  4442378.0 2016-12-29    1364.0   10.0  13.450000        2.0     1364   \n",
       "6046294  4442378.0 2016-12-30    1364.0    5.0  13.450000        2.0     1364   \n",
       "6046295        NaN        NaT       NaN    NaN        NaN        NaN     2338   \n",
       "\n",
       "                     NOMBRE DE TDA       CADENA   FORMATO     ESTADO DIVISION  \n",
       "0        Bloody Sea Green BookShop  proveedor_1      Shop    Coalmar  SURESTE  \n",
       "1        Bloody Sea Green BookShop  proveedor_1      Shop    Coalmar  SURESTE  \n",
       "2        Bloody Sea Green BookShop  proveedor_1      Shop    Coalmar  SURESTE  \n",
       "3        Bloody Sea Green BookShop  proveedor_1      Shop    Coalmar  SURESTE  \n",
       "4        Bloody Sea Green BookShop  proveedor_1      Shop    Coalmar  SURESTE  \n",
       "...                            ...          ...       ...        ...      ...  \n",
       "6046291    Legendary Blue AllInOne  proveedor_2  TinyShop  Gulvitval  NORESTE  \n",
       "6046292    Legendary Blue AllInOne  proveedor_2  TinyShop  Gulvitval  NORESTE  \n",
       "6046293    Legendary Blue AllInOne  proveedor_2  TinyShop  Gulvitval  NORESTE  \n",
       "6046294    Legendary Blue AllInOne  proveedor_2  TinyShop  Gulvitval  NORESTE  \n",
       "6046295      Great Crimson Grocery  proveedor_2  TinyShop  Barthovit  NORESTE  \n",
       "\n",
       "[6046296 rows x 12 columns]"
      ]
     },
     "execution_count": 39,
     "metadata": {},
     "output_type": "execute_result"
    }
   ],
   "source": [
    "# Ventas con informacion de clientes\n",
    "ventas_clientes = ventas.merge(clientes,\n",
    "                               how='right', left_on=\"Store_Id\", right_on=\"NUM TDA\",\n",
    "                               sort=False, suffixes=('_x', '_y')\n",
    "                              )\n",
    "ventas_clientes"
   ]
  },
  {
   "cell_type": "markdown",
   "id": "17acb420-920c-4a56-82fa-ee1a3f26920b",
   "metadata": {
    "pycharm": {
     "name": "#%% md\n"
    }
   },
   "source": [
    "Crearemos dos filtros para que sea más facil buscar la informacion de tiendas con/sin ventas."
   ]
  },
  {
   "cell_type": "code",
   "execution_count": 40,
   "id": "aeba0645-b91a-402f-9358-acc6018055f1",
   "metadata": {
    "pycharm": {
     "name": "#%%\n"
    }
   },
   "outputs": [],
   "source": [
    "mask_tiendas_sin_ventas=ventas_clientes.isnull().sum(axis=1)!=0\n",
    "mask_tiendas_con_ventas=~mask_tiendas_sin_ventas"
   ]
  },
  {
   "cell_type": "markdown",
   "id": "5a41fead-69a7-48c6-a446-3693292445a2",
   "metadata": {
    "pycharm": {
     "name": "#%% md\n"
    }
   },
   "source": [
    "Vamos a guardar los `NUM TDA` de las tiendas sin ventas"
   ]
  },
  {
   "cell_type": "code",
   "execution_count": 41,
   "id": "117611e7-e043-4781-a029-c0efc421f564",
   "metadata": {
    "pycharm": {
     "name": "#%%\n"
    }
   },
   "outputs": [],
   "source": [
    "tiendas_sin_ventas = set(ventas_clientes[mask_tiendas_sin_ventas][\"NUM TDA\"].unique())\n",
    "tiendas_con_ventas = set(ventas_clientes[mask_tiendas_con_ventas][\"NUM TDA\"].unique())"
   ]
  },
  {
   "cell_type": "code",
   "execution_count": 42,
   "id": "bfb30df0-5ac5-43a3-9d63-38032b3bc5dc",
   "metadata": {
    "pycharm": {
     "name": "#%%\n"
    }
   },
   "outputs": [
    {
     "data": {
      "text/plain": [
       "True"
      ]
     },
     "execution_count": 42,
     "metadata": {},
     "output_type": "execute_result"
    }
   ],
   "source": [
    "# understanding check\n",
    "len(tiendas_sin_ventas-tiendas_con_ventas)==len(tiendas_sin_ventas)"
   ]
  },
  {
   "cell_type": "markdown",
   "id": "5028c616-d112-47c1-ba3d-83ced0573833",
   "metadata": {
    "pycharm": {
     "name": "#%% md\n"
    }
   },
   "source": [
    "Revisamos que todos los estados tengan ventas"
   ]
  },
  {
   "cell_type": "code",
   "execution_count": 43,
   "id": "68e8b607-4a29-4645-849e-7b371bb3b503",
   "metadata": {
    "pycharm": {
     "name": "#%%\n"
    }
   },
   "outputs": [
    {
     "data": {
      "text/plain": [
       "set()"
      ]
     },
     "execution_count": 43,
     "metadata": {},
     "output_type": "execute_result"
    }
   ],
   "source": [
    "estado_sin_ventas = set(ventas_clientes[mask_tiendas_sin_ventas][\"ESTADO\"].unique())\n",
    "estado_con_ventas = set(ventas_clientes[mask_tiendas_con_ventas][\"ESTADO\"].unique())\n",
    "\n",
    "estado_sin_ventas-estado_con_ventas"
   ]
  },
  {
   "cell_type": "markdown",
   "id": "fbfdf0ed-5c82-4fb0-8a95-d1c68f31a839",
   "metadata": {
    "pycharm": {
     "name": "#%% md\n"
    }
   },
   "source": [
    "Revisamos que cada division tenga ventas, asumiendo que los nombres de las divisiones no se repiten en diferentes estados"
   ]
  },
  {
   "cell_type": "code",
   "execution_count": 44,
   "id": "9f965a88-a521-417c-8833-3e48745f132d",
   "metadata": {
    "pycharm": {
     "name": "#%%\n"
    }
   },
   "outputs": [
    {
     "data": {
      "text/plain": [
       "set()"
      ]
     },
     "execution_count": 44,
     "metadata": {},
     "output_type": "execute_result"
    }
   ],
   "source": [
    "division_sin_ventas = set(ventas_clientes[mask_tiendas_sin_ventas][\"DIVISION\"].unique())\n",
    "division_con_ventas = set(ventas_clientes[mask_tiendas_con_ventas][\"DIVISION\"].unique())\n",
    "\n",
    "division_sin_ventas-division_con_ventas"
   ]
  },
  {
   "cell_type": "markdown",
   "id": "472a9ceb-7cb3-485b-8b56-ca8aad6ea2f8",
   "metadata": {
    "pycharm": {
     "name": "#%% md\n"
    }
   },
   "source": [
    "Encontramos tiendas que no tienen ventas, y en un overview no parece que sea alguna generalidad de estado o division. Más bien son casos aislados dentro de estas subcategorias."
   ]
  },
  {
   "cell_type": "markdown",
   "id": "c21cc4d3-fc75-4465-bd81-09703d4a1c00",
   "metadata": {
    "jp-MarkdownHeadingCollapsed": true,
    "tags": [],
    "pycharm": {
     "name": "#%% md\n"
    }
   },
   "source": [
    "## 2.3 Ventas diarias por producto"
   ]
  },
  {
   "cell_type": "markdown",
   "id": "0b680977-b230-4014-86f0-b4d5416a9d2c",
   "metadata": {
    "pycharm": {
     "name": "#%% md\n"
    }
   },
   "source": [
    "Ya que no tengo mayor informacion del reglas de negocio hare 2 cosas para validar esto.\n",
    "1. Validar el número de ventas por periodo\n",
    "2. Revisar la distancia entre periodos\n",
    "\n",
    "Con esto podremos saber si los periodos están completos.\n",
    "\n",
    "> Voy a hacer esto por proveedor para no asumir que son el mismo proveedor y para identificar posibles errores de cada dataset más claramente"
   ]
  },
  {
   "cell_type": "markdown",
   "id": "c07bb451-60d9-46e8-8dc8-b2fe97bd3fe3",
   "metadata": {
    "jp-MarkdownHeadingCollapsed": true,
    "tags": [],
    "pycharm": {
     "name": "#%% md\n"
    }
   },
   "source": [
    "### 2.3.1 Proveedor 1"
   ]
  },
  {
   "cell_type": "code",
   "execution_count": 45,
   "id": "238e350e-7a10-474c-b39f-11d8a245e14c",
   "metadata": {
    "pycharm": {
     "name": "#%%\n"
    }
   },
   "outputs": [
    {
     "data": {
      "text/plain": [
       "2017-01-01    7783\n",
       "2017-04-17    7783\n",
       "2017-04-10    7783\n",
       "2017-04-11    7783\n",
       "2017-04-12    7783\n",
       "              ... \n",
       "2017-02-22    7783\n",
       "2017-02-23    7783\n",
       "2017-02-24    7783\n",
       "2017-02-25    7783\n",
       "2017-06-04    7783\n",
       "Name: Date, Length: 155, dtype: int64"
      ]
     },
     "execution_count": 45,
     "metadata": {},
     "output_type": "execute_result"
    }
   ],
   "source": [
    "n_ventas_por_fecha_proveedor1=proveedor_1[\"Date\"].sort_values().value_counts()\n",
    "n_ventas_por_fecha_proveedor1"
   ]
  },
  {
   "cell_type": "markdown",
   "id": "117c4421-2c9d-4d89-9456-ca838f96e2e5",
   "metadata": {
    "pycharm": {
     "name": "#%% md\n"
    }
   },
   "source": [
    "Llama la atencion que tenga el mismo número de ventas todos los dias aunque si esperariamos algo uniforme."
   ]
  },
  {
   "cell_type": "code",
   "execution_count": 46,
   "id": "7239d0e3-f189-4d2f-904b-09fc4608f614",
   "metadata": {
    "pycharm": {
     "name": "#%%\n"
    }
   },
   "outputs": [
    {
     "data": {
      "text/plain": [
       "<AxesSubplot:>"
      ]
     },
     "execution_count": 46,
     "metadata": {},
     "output_type": "execute_result"
    },
    {
     "data": {
      "image/png": "[encoded data removed]",
      "text/plain": [
       "<Figure size 432x288 with 1 Axes>"
      ]
     },
     "metadata": {
      "needs_background": "light"
     },
     "output_type": "display_data"
    }
   ],
   "source": [
    "n_ventas_por_fecha_proveedor1.plot()"
   ]
  },
  {
   "cell_type": "markdown",
   "id": "11c93237-f668-4e70-99d5-faf146403b93",
   "metadata": {
    "pycharm": {
     "name": "#%% md\n"
    }
   },
   "source": [
    "Supongamos que esto fue por como se generaron los datos."
   ]
  },
  {
   "cell_type": "markdown",
   "id": "fdbb3364-c6e9-40ca-a999-2be528445d71",
   "metadata": {
    "pycharm": {
     "name": "#%% md\n"
    }
   },
   "source": [
    "Ahora vamos a revisar que todos los meses tengan datos para cada uno de sus dias."
   ]
  },
  {
   "cell_type": "code",
   "execution_count": 47,
   "id": "cb762777-c2ac-448a-9b23-ff48d2499a23",
   "metadata": {
    "pycharm": {
     "name": "#%%\n"
    }
   },
   "outputs": [
    {
     "name": "stdout",
     "output_type": "stream",
     "text": [
      "{'2017-01_January (31)': 31,\n",
      " '2017-02_February (28)': 28,\n",
      " '2017-03_March (31)': 31,\n",
      " '2017-04_April (30)': 30,\n",
      " '2017-05_May (31)': 31,\n",
      " '2017-06_June (30)': 4}\n"
     ]
    }
   ],
   "source": [
    "l = list(\n",
    "    map(\n",
    "        lambda t: t.strftime('%Y-%m_%B')+f\" ({t.daysinmonth})\",\n",
    "        pd.to_datetime(proveedor_1['Date'].unique())\n",
    "    )\n",
    ")\n",
    "\n",
    "pprint({x:l.count(x) for x in set(l)})"
   ]
  },
  {
   "cell_type": "code",
   "execution_count": 48,
   "id": "ec0cc413-8a35-41ee-a0b1-944e00eb3381",
   "metadata": {
    "pycharm": {
     "name": "#%%\n"
    }
   },
   "outputs": [
    {
     "data": {
      "text/plain": [
       "<AxesSubplot:>"
      ]
     },
     "execution_count": 48,
     "metadata": {},
     "output_type": "execute_result"
    },
    {
     "data": {
      "image/png": "[encoded data removed]",
      "text/plain": [
       "<Figure size 432x288 with 1 Axes>"
      ]
     },
     "metadata": {
      "needs_background": "light"
     },
     "output_type": "display_data"
    }
   ],
   "source": [
    "l = list(\n",
    "    map(\n",
    "        lambda t: t.strftime('%Y-%U'),\n",
    "        pd.to_datetime(proveedor_1['Date'].unique())\n",
    "    )\n",
    ")\n",
    "count_per_week_of_year = pd.Series({x:l.count(x) for x in set(l)})\n",
    "count_per_week_of_year.plot()"
   ]
  },
  {
   "cell_type": "markdown",
   "id": "b3a80750-052f-435e-8b1e-98bba4f79356",
   "metadata": {
    "pycharm": {
     "name": "#%% md\n"
    }
   },
   "source": [
    "Parece que proveedor 1 comenzo junto con el año en 2017\n",
    "\n",
    "| Año  | mes   | detalles                                                     |\n",
    "| ---- | ----- | ------------------------------------------------------------ |\n",
    "| 2017 | Junio | Es el corte de los datos podría ser que el mes \"aun no terminaba\" cuando se creo el dataset. |"
   ]
  },
  {
   "cell_type": "markdown",
   "id": "64cc6ec8-0b84-4182-9125-935859ea8543",
   "metadata": {
    "jp-MarkdownHeadingCollapsed": true,
    "tags": [],
    "pycharm": {
     "name": "#%% md\n"
    }
   },
   "source": [
    "### 2.3.2 Proveedor 2"
   ]
  },
  {
   "cell_type": "code",
   "execution_count": 49,
   "id": "f3021f7d-2954-4513-b373-6dd19fb3c4b4",
   "metadata": {
    "pycharm": {
     "name": "#%%\n"
    }
   },
   "outputs": [
    {
     "data": {
      "text/plain": [
       "<AxesSubplot:>"
      ]
     },
     "execution_count": 49,
     "metadata": {},
     "output_type": "execute_result"
    },
    {
     "data": {
      "image/png": "[encoded data removed]",
      "text/plain": [
       "<Figure size 432x288 with 1 Axes>"
      ]
     },
     "metadata": {
      "needs_background": "light"
     },
     "output_type": "display_data"
    }
   ],
   "source": [
    "ventas[ventas[\"proveedor\"]==2][\"Date\"].sort_values().value_counts().plot()"
   ]
  },
  {
   "cell_type": "markdown",
   "id": "4622f0a1-c33a-4063-a9e3-5d1ffb07a2c4",
   "metadata": {
    "pycharm": {
     "name": "#%% md\n"
    }
   },
   "source": [
    "Podemos observar que tiene saltos en la informacion en rangos muy distantes. ¿Por qué?\n",
    "\n",
    "Revisemos en que meses faltan datos comparando cuantos dias tiene el mes contra los dias que tuvo informacion."
   ]
  },
  {
   "cell_type": "code",
   "execution_count": 50,
   "id": "c8245e8c-edc0-43d5-830c-bc9df4f90497",
   "metadata": {
    "pycharm": {
     "name": "#%%\n"
    }
   },
   "outputs": [
    {
     "name": "stdout",
     "output_type": "stream",
     "text": [
      "{'2016-01_January (31)': 31,\n",
      " '2016-02_February (29)': 29,\n",
      " '2016-03_March (31)': 31,\n",
      " '2016-04_April (30)': 29,\n",
      " '2016-07_July (31)': 30,\n",
      " '2016-08_August (31)': 29,\n",
      " '2016-10_October (31)': 3,\n",
      " '2016-11_November (30)': 30,\n",
      " '2016-12_December (31)': 30}\n"
     ]
    }
   ],
   "source": [
    "l = list(\n",
    "    map(\n",
    "        lambda t: t.strftime('%Y-%m_%B')+f\" ({t.daysinmonth})\",\n",
    "        pd.to_datetime(proveedor_2['Date'].unique())\n",
    "    )\n",
    ")\n",
    "\n",
    "pprint({x:l.count(x) for x in set(l)})"
   ]
  },
  {
   "cell_type": "code",
   "execution_count": 51,
   "id": "399aa9a6-c6be-4884-b21b-0b2843ddc5a5",
   "metadata": {
    "pycharm": {
     "name": "#%%\n"
    }
   },
   "outputs": [
    {
     "data": {
      "text/plain": [
       "<AxesSubplot:>"
      ]
     },
     "execution_count": 51,
     "metadata": {},
     "output_type": "execute_result"
    },
    {
     "data": {
      "image/png": "[encoded data removed]",
      "text/plain": [
       "<Figure size 432x288 with 1 Axes>"
      ]
     },
     "metadata": {
      "needs_background": "light"
     },
     "output_type": "display_data"
    }
   ],
   "source": [
    "l = list(\n",
    "    map(\n",
    "        lambda t: t.strftime('%Y-%U'),\n",
    "        pd.to_datetime(proveedor_2['Date'].unique())\n",
    "    )\n",
    ")\n",
    "count_per_week_of_year = pd.Series({x:l.count(x) for x in set(l)})\n",
    "count_per_week_of_year.plot()"
   ]
  },
  {
   "cell_type": "markdown",
   "id": "bbf9c825-3e2b-4172-8529-09cad1f11e71",
   "metadata": {
    "pycharm": {
     "name": "#%% md\n"
    }
   },
   "source": [
    "No todos los meses tienen datos completos.\n",
    "\n",
    "| Año  | mes        | detalles                                                     |\n",
    "| ---- | ---------- | ------------------------------------------------------------ |\n",
    "| 2016 | Abril      | Falta un dia                                                 |\n",
    "| 2016 | July       | Falta un dia                                                 |\n",
    "| 2016 | Agosto     | Faltan 2 dias, seria conveniente saber porque                |\n",
    "| 2016 | Septiembre | Falta el mes completo                                        |\n",
    "| 2016 | Octubre    | solo tiene 3 dias. Seguramente hay un error                  |\n",
    "| 2016 | Diciembre  | Falta el 31 de diciembre. Posiblemente cerraron por ser dia festivo   |"
   ]
  },
  {
   "cell_type": "code",
   "execution_count": 52,
   "id": "c7ada207-6b2f-41ba-8343-bf11d38e15a7",
   "metadata": {
    "pycharm": {
     "name": "#%%\n"
    }
   },
   "outputs": [
    {
     "data": {
      "text/plain": [
       "'2016-52'"
      ]
     },
     "execution_count": 52,
     "metadata": {},
     "output_type": "execute_result"
    }
   ],
   "source": [
    "count_per_week_of_year.index.max()"
   ]
  },
  {
   "cell_type": "code",
   "execution_count": 53,
   "id": "0b7ed23d-d9e1-4519-a015-80b29735187a",
   "metadata": {
    "pycharm": {
     "name": "#%%\n"
    }
   },
   "outputs": [
    {
     "data": {
      "text/plain": [
       "2016-17    6\n",
       "2016-35    2\n",
       "2016-00    2\n",
       "2016-52    6\n",
       "2016-43    1\n",
       "2016-26    1\n",
       "dtype: int64"
      ]
     },
     "execution_count": 53,
     "metadata": {},
     "output_type": "execute_result"
    }
   ],
   "source": [
    "count_per_week_of_year[count_per_week_of_year!=7]"
   ]
  },
  {
   "cell_type": "markdown",
   "id": "bef23814-c7ec-42e1-934d-c877efea1066",
   "metadata": {
    "pycharm": {
     "name": "#%% md\n"
    }
   },
   "source": [
    "Esta lista de semanas nos puede ayudar a comunicarnos con el cliente para obtener más informacion."
   ]
  },
  {
   "cell_type": "markdown",
   "id": "40b834a6-fdef-4686-a791-b42b513312b0",
   "metadata": {
    "pycharm": {
     "name": "#%% md\n"
    }
   },
   "source": [
    "## 2.4 Adicionales"
   ]
  },
  {
   "cell_type": "markdown",
   "id": "88f4402a-50bd-4040-917a-bf305e591d58",
   "metadata": {
    "tags": [],
    "pycharm": {
     "name": "#%% md\n"
    }
   },
   "source": [
    "### 2.4.1 Precio y piezas"
   ]
  },
  {
   "cell_type": "markdown",
   "id": "ad3d68af-e475-42a7-8546-3d610d340fa9",
   "metadata": {
    "pycharm": {
     "name": "#%% md\n"
    }
   },
   "source": [
    "\n",
    "Algunas ventas en  `Price` y `Units` tienen valores menor o igual a 0\n",
    "\n",
    "Es posible que estos productos esten descontinuados, tengan descuento o sean errores, vamos a explorarlos un poco para poder preguntarle al cliente directamente."
   ]
  },
  {
   "cell_type": "code",
   "execution_count": 54,
   "id": "a5ae98c6-3384-446a-87b7-90a7b3899f9b",
   "metadata": {
    "pycharm": {
     "name": "#%%\n"
    }
   },
   "outputs": [
    {
     "name": "stdout",
     "output_type": "stream",
     "text": [
      "568002 Sin precio ni piezas\n"
     ]
    }
   ],
   "source": [
    "# Hay algunas filas con precio 0 y piezas 0, esto probablemente es un error.\n",
    "mask_descontinuados = (ventas['Price']==0) & (ventas['Units'] == 0)  # Revisa que columnas tiene precio = 0 y piezas = 0\n",
    "descontinuados = ventas[mask_descontinuados]\n",
    "sku_descontinuados = set(ventas[mask_descontinuados].Sku.unique())\n",
    "\n",
    "print(len(descontinuados), \"Sin precio ni piezas\")"
   ]
  },
  {
   "cell_type": "markdown",
   "source": [
    "La siguiente celda es para saber cuantos corresponden a cada proveedor y vemos que todos son del proveedor 1."
   ],
   "metadata": {
    "collapsed": false,
    "pycharm": {
     "name": "#%% md\n"
    }
   }
  },
  {
   "cell_type": "code",
   "execution_count": 55,
   "id": "3d80c426-5333-48b5-b61a-142d44537928",
   "metadata": {
    "pycharm": {
     "name": "#%%\n"
    }
   },
   "outputs": [
    {
     "data": {
      "text/plain": [
       "1    568002\n",
       "Name: proveedor, dtype: int64"
      ]
     },
     "execution_count": 55,
     "metadata": {},
     "output_type": "execute_result"
    }
   ],
   "source": [
    "descontinuados.proveedor.value_counts()"
   ]
  },
  {
   "cell_type": "code",
   "execution_count": 56,
   "id": "b64b2645-4151-477a-96ae-ef7c48b133ea",
   "metadata": {
    "pycharm": {
     "name": "#%%\n"
    }
   },
   "outputs": [
    {
     "data": {
      "text/plain": [
       "0.8958333333333334"
      ]
     },
     "execution_count": 56,
     "metadata": {},
     "output_type": "execute_result"
    }
   ],
   "source": [
    "len(sku_descontinuados)/len(set(ventas.Sku.unique()))"
   ]
  },
  {
   "cell_type": "markdown",
   "source": [
    "89.6% de los distintos productos están afectados con esta caracteristica de que no tuvieron precio ni piezas en algún momento. Quiza no están descontinuados como lo pense en un inicio, es posible que debido a su movimiento se lleguen a agotar cuando sé de un descuento.\n",
    "\n",
    "Aun asi podriamos revisar en que fechas es para saber si se agrupan en periodos promocionales además de hablar con el cliente para entender esto."
   ],
   "metadata": {
    "collapsed": false,
    "pycharm": {
     "name": "#%% md\n"
    }
   }
  },
  {
   "cell_type": "code",
   "execution_count": 57,
   "id": "d9a4a808-a19a-4e1f-a9ac-34567ff961e1",
   "metadata": {
    "pycharm": {
     "name": "#%%\n"
    }
   },
   "outputs": [
    {
     "data": {
      "text/html": [
       "<div>\n",
       "<style scoped>\n",
       "    .dataframe tbody tr th:only-of-type {\n",
       "        vertical-align: middle;\n",
       "    }\n",
       "\n",
       "    .dataframe tbody tr th {\n",
       "        vertical-align: top;\n",
       "    }\n",
       "\n",
       "    .dataframe thead tr th {\n",
       "        text-align: left;\n",
       "    }\n",
       "\n",
       "    .dataframe thead tr:last-of-type th {\n",
       "        text-align: right;\n",
       "    }\n",
       "</style>\n",
       "<table border=\"1\" class=\"dataframe\">\n",
       "  <thead>\n",
       "    <tr>\n",
       "      <th></th>\n",
       "      <th colspan=\"4\" halign=\"left\">Price</th>\n",
       "      <th colspan=\"4\" halign=\"left\">Units</th>\n",
       "    </tr>\n",
       "    <tr>\n",
       "      <th></th>\n",
       "      <th>mean</th>\n",
       "      <th>count</th>\n",
       "      <th>min</th>\n",
       "      <th>max</th>\n",
       "      <th>mean</th>\n",
       "      <th>count</th>\n",
       "      <th>min</th>\n",
       "      <th>max</th>\n",
       "    </tr>\n",
       "    <tr>\n",
       "      <th>Store_Id</th>\n",
       "      <th></th>\n",
       "      <th></th>\n",
       "      <th></th>\n",
       "      <th></th>\n",
       "      <th></th>\n",
       "      <th></th>\n",
       "      <th></th>\n",
       "      <th></th>\n",
       "    </tr>\n",
       "  </thead>\n",
       "  <tbody>\n",
       "    <tr>\n",
       "      <th>2</th>\n",
       "      <td>14.780826</td>\n",
       "      <td>4805</td>\n",
       "      <td>0.000000</td>\n",
       "      <td>80.500000</td>\n",
       "      <td>16.975296</td>\n",
       "      <td>4805</td>\n",
       "      <td>0.00</td>\n",
       "      <td>548.0</td>\n",
       "    </tr>\n",
       "    <tr>\n",
       "      <th>4</th>\n",
       "      <td>14.699944</td>\n",
       "      <td>5270</td>\n",
       "      <td>0.000000</td>\n",
       "      <td>102.760002</td>\n",
       "      <td>38.591671</td>\n",
       "      <td>5270</td>\n",
       "      <td>-0.45</td>\n",
       "      <td>1236.0</td>\n",
       "    </tr>\n",
       "    <tr>\n",
       "      <th>5</th>\n",
       "      <td>14.783179</td>\n",
       "      <td>5115</td>\n",
       "      <td>-3.600000</td>\n",
       "      <td>86.155556</td>\n",
       "      <td>28.329414</td>\n",
       "      <td>5115</td>\n",
       "      <td>-0.75</td>\n",
       "      <td>1403.0</td>\n",
       "    </tr>\n",
       "    <tr>\n",
       "      <th>6</th>\n",
       "      <td>17.066229</td>\n",
       "      <td>5270</td>\n",
       "      <td>0.000000</td>\n",
       "      <td>80.522224</td>\n",
       "      <td>35.289753</td>\n",
       "      <td>5270</td>\n",
       "      <td>0.00</td>\n",
       "      <td>2086.0</td>\n",
       "    </tr>\n",
       "    <tr>\n",
       "      <th>7</th>\n",
       "      <td>14.470395</td>\n",
       "      <td>5115</td>\n",
       "      <td>-24.200001</td>\n",
       "      <td>67.000000</td>\n",
       "      <td>34.118610</td>\n",
       "      <td>5115</td>\n",
       "      <td>0.00</td>\n",
       "      <td>2519.0</td>\n",
       "    </tr>\n",
       "    <tr>\n",
       "      <th>...</th>\n",
       "      <td>...</td>\n",
       "      <td>...</td>\n",
       "      <td>...</td>\n",
       "      <td>...</td>\n",
       "      <td>...</td>\n",
       "      <td>...</td>\n",
       "      <td>...</td>\n",
       "      <td>...</td>\n",
       "    </tr>\n",
       "    <tr>\n",
       "      <th>707</th>\n",
       "      <td>14.517314</td>\n",
       "      <td>3100</td>\n",
       "      <td>0.000000</td>\n",
       "      <td>59.555557</td>\n",
       "      <td>1.612581</td>\n",
       "      <td>3100</td>\n",
       "      <td>0.00</td>\n",
       "      <td>24.0</td>\n",
       "    </tr>\n",
       "    <tr>\n",
       "      <th>708</th>\n",
       "      <td>13.663567</td>\n",
       "      <td>4185</td>\n",
       "      <td>0.000000</td>\n",
       "      <td>80.449997</td>\n",
       "      <td>10.745556</td>\n",
       "      <td>4185</td>\n",
       "      <td>0.00</td>\n",
       "      <td>601.0</td>\n",
       "    </tr>\n",
       "    <tr>\n",
       "      <th>709</th>\n",
       "      <td>6.545716</td>\n",
       "      <td>4340</td>\n",
       "      <td>0.000000</td>\n",
       "      <td>59.599998</td>\n",
       "      <td>0.874816</td>\n",
       "      <td>4340</td>\n",
       "      <td>0.00</td>\n",
       "      <td>32.0</td>\n",
       "    </tr>\n",
       "    <tr>\n",
       "      <th>711</th>\n",
       "      <td>0.000000</td>\n",
       "      <td>155</td>\n",
       "      <td>0.000000</td>\n",
       "      <td>0.000000</td>\n",
       "      <td>0.000000</td>\n",
       "      <td>155</td>\n",
       "      <td>0.00</td>\n",
       "      <td>0.0</td>\n",
       "    </tr>\n",
       "    <tr>\n",
       "      <th>712</th>\n",
       "      <td>5.778435</td>\n",
       "      <td>2790</td>\n",
       "      <td>0.000000</td>\n",
       "      <td>59.555557</td>\n",
       "      <td>1.569459</td>\n",
       "      <td>2790</td>\n",
       "      <td>0.00</td>\n",
       "      <td>89.0</td>\n",
       "    </tr>\n",
       "  </tbody>\n",
       "</table>\n",
       "<p>241 rows × 8 columns</p>\n",
       "</div>"
      ],
      "text/plain": [
       "              Price                                   Units              \\\n",
       "               mean count        min         max       mean count   min   \n",
       "Store_Id                                                                  \n",
       "2         14.780826  4805   0.000000   80.500000  16.975296  4805  0.00   \n",
       "4         14.699944  5270   0.000000  102.760002  38.591671  5270 -0.45   \n",
       "5         14.783179  5115  -3.600000   86.155556  28.329414  5115 -0.75   \n",
       "6         17.066229  5270   0.000000   80.522224  35.289753  5270  0.00   \n",
       "7         14.470395  5115 -24.200001   67.000000  34.118610  5115  0.00   \n",
       "...             ...   ...        ...         ...        ...   ...   ...   \n",
       "707       14.517314  3100   0.000000   59.555557   1.612581  3100  0.00   \n",
       "708       13.663567  4185   0.000000   80.449997  10.745556  4185  0.00   \n",
       "709        6.545716  4340   0.000000   59.599998   0.874816  4340  0.00   \n",
       "711        0.000000   155   0.000000    0.000000   0.000000   155  0.00   \n",
       "712        5.778435  2790   0.000000   59.555557   1.569459  2790  0.00   \n",
       "\n",
       "                  \n",
       "             max  \n",
       "Store_Id          \n",
       "2          548.0  \n",
       "4         1236.0  \n",
       "5         1403.0  \n",
       "6         2086.0  \n",
       "7         2519.0  \n",
       "...          ...  \n",
       "707         24.0  \n",
       "708        601.0  \n",
       "709         32.0  \n",
       "711          0.0  \n",
       "712         89.0  \n",
       "\n",
       "[241 rows x 8 columns]"
      ]
     },
     "execution_count": 57,
     "metadata": {},
     "output_type": "execute_result"
    }
   ],
   "source": [
    "ventas[ventas.Sku.isin(sku_descontinuados) & ventas.proveedor==1].groupby(\"Store_Id\").agg({\n",
    "    \"Price\":[\"mean\",\"count\", \"min\",\"max\"],\n",
    "    \"Units\":[\"mean\",\"count\", \"min\",\"max\"]\n",
    "})"
   ]
  },
  {
   "cell_type": "markdown",
   "source": [
    "Vemos que tanto para `Price` como para `Units` tenemos valores negaivos y en cero. Sería importante saber que causa esto."
   ],
   "metadata": {
    "collapsed": false,
    "pycharm": {
     "name": "#%% md\n"
    }
   }
  },
  {
   "cell_type": "markdown",
   "id": "e116dfc8-98cb-41e2-8ccb-26189a5cf30e",
   "metadata": {
    "pycharm": {
     "name": "#%% md\n"
    }
   },
   "source": [
    "Otro analisis que se puede hacer es por fechas porque quisa son descuentos, o con un detector de anomalias, pero creo que está fuera del scope de esta prueba. En este punto sería más conveniente platicar con el ciente para entender al negocio con mayor claridad."
   ]
  },
  {
   "cell_type": "markdown",
   "id": "bf0025e6-fb14-4ff9-8331-594dcafe45cd",
   "metadata": {
    "pycharm": {
     "name": "#%% md\n"
    }
   },
   "source": [
    "Finalmente, vamos a tomar un conteo de las ventas sin costo, que bien podrian ser bajas por merma o productos regalados."
   ]
  },
  {
   "cell_type": "code",
   "execution_count": 58,
   "id": "8dcc128c-aebb-4dbd-b03b-5261262cafdc",
   "metadata": {
    "pycharm": {
     "name": "#%%\n"
    }
   },
   "outputs": [
    {
     "name": "stdout",
     "output_type": "stream",
     "text": [
      "110 Ventas precio\n"
     ]
    }
   ],
   "source": [
    "# Hay algunas filas con precio 0 y piezas 0, esto probablemente es un error.\n",
    "mask_sin_costo = (ventas['Price']==0) & (ventas['Units'] != 0)  # Revisa que columnas tiene precio = 0 y piezas = 0\n",
    "sin_costo = ventas[mask_sin_costo]\n",
    "print(len(sin_costo), \"Ventas precio\")"
   ]
  },
  {
   "cell_type": "markdown",
   "source": [
    "Revisemos a que proveedor corresponden. Aqui muestra que las 110 ventas com precio de $0 son del proveedor 1."
   ],
   "metadata": {
    "collapsed": false,
    "pycharm": {
     "name": "#%% md\n"
    }
   }
  },
  {
   "cell_type": "code",
   "execution_count": 59,
   "id": "aa573775-9a6a-4f8e-ad8d-66190b5c169e",
   "metadata": {
    "pycharm": {
     "name": "#%%\n"
    }
   },
   "outputs": [
    {
     "data": {
      "text/plain": [
       "1    110\n",
       "Name: proveedor, dtype: int64"
      ]
     },
     "execution_count": 59,
     "metadata": {},
     "output_type": "execute_result"
    }
   ],
   "source": [
    "sin_costo.proveedor.value_counts()"
   ]
  },
  {
   "cell_type": "code",
   "execution_count": 60,
   "id": "d2919e71-4db7-4ff6-aab3-205774a13734",
   "metadata": {
    "tags": [],
    "pycharm": {
     "name": "#%%\n"
    }
   },
   "outputs": [
    {
     "name": "stdout",
     "output_type": "stream",
     "text": [
      "original 6068394\n",
      "Ventas sin  6068284\n",
      "Datos removidos: 0.002%\n"
     ]
    }
   ],
   "source": [
    "ventas_sin_costo = ventas[~mask_sin_costo]\n",
    "\n",
    "# Validamos que la cantidad de datos corresponda a la cantidad que se debio quitar\n",
    "assert len(ventas)==(len(ventas_sin_costo) + sum(mask_sin_costo)), \"Missing data\"\n",
    "\n",
    "print(\"original\", len(ventas))\n",
    "print(\"Ventas sin \", len(ventas_sin_costo))\n",
    "\n",
    "print(\"Datos removidos: {proportion:.3%}\".format(proportion=sum(mask_sin_costo)/len(ventas_sin_costo)))"
   ]
  },
  {
   "cell_type": "markdown",
   "id": "f0e3dc94-67fd-41cd-8928-c3809cca51c9",
   "metadata": {
    "pycharm": {
     "name": "#%% md\n"
    }
   },
   "source": [
    "> Es importante confirmar con el cliente la causa de que esten en 0 estos campos."
   ]
  },
  {
   "cell_type": "markdown",
   "id": "fbb5dc06-d388-4735-84b0-98ad53c0f9f2",
   "metadata": {
    "jp-MarkdownHeadingCollapsed": true,
    "tags": [],
    "pycharm": {
     "name": "#%% md\n"
    }
   },
   "source": [
    "### 2.4.2 Fracciones de piezas.\n",
    "Otro posible problema es entradas en la columna piezas que no son enteros, lo cual es un posible error.\n",
    "Estos representan casi la mitad de todas las entradas en la tabla de ventas."
   ]
  },
  {
   "cell_type": "code",
   "execution_count": 63,
   "id": "30d8e916-db4b-417d-a26d-eb493114557a",
   "metadata": {
    "pycharm": {
     "name": "#%%\n"
    }
   },
   "outputs": [
    {
     "name": "stdout",
     "output_type": "stream",
     "text": [
      "2397582  son entradas con una fracción en \"Units\"\n",
      "Un 39.51% de los datos\n"
     ]
    }
   ],
   "source": [
    "mask_pieces = ventas['Units'] != ventas['Units'].astype(int)\n",
    "\n",
    "print(sum(mask_pieces), ' son entradas con una fracción en \"Units\"')\n",
    "print(f\"Un {sum(mask_pieces)/len(ventas):.2%} de los datos\")"
   ]
  },
  {
   "cell_type": "markdown",
   "source": [
    "Me interesa saber que tipo de producto es el que está fraccionado. Porque si son Kilos de fruta es entendible, pero si fuera un producto que solo se vende entero habría que preguntarnos ¿Por qué?"
   ],
   "metadata": {
    "collapsed": false,
    "pycharm": {
     "name": "#%% md\n"
    }
   }
  },
  {
   "cell_type": "code",
   "execution_count": 64,
   "id": "d8f1d440",
   "metadata": {
    "scrolled": true,
    "tags": [],
    "pycharm": {
     "name": "#%%\n"
    }
   },
   "outputs": [
    {
     "data": {
      "text/html": [
       "<div>\n",
       "<style scoped>\n",
       "    .dataframe tbody tr th:only-of-type {\n",
       "        vertical-align: middle;\n",
       "    }\n",
       "\n",
       "    .dataframe tbody tr th {\n",
       "        vertical-align: top;\n",
       "    }\n",
       "\n",
       "    .dataframe thead th {\n",
       "        text-align: right;\n",
       "    }\n",
       "</style>\n",
       "<table border=\"1\" class=\"dataframe\">\n",
       "  <thead>\n",
       "    <tr style=\"text-align: right;\">\n",
       "      <th></th>\n",
       "      <th>Sku</th>\n",
       "      <th>Date</th>\n",
       "      <th>Store_Id</th>\n",
       "      <th>Units</th>\n",
       "      <th>Price</th>\n",
       "      <th>proveedor</th>\n",
       "      <th>Sku_Description</th>\n",
       "      <th>Sku_Category</th>\n",
       "      <th>Sku_Subcategory</th>\n",
       "    </tr>\n",
       "  </thead>\n",
       "  <tbody>\n",
       "    <tr>\n",
       "      <th>2062855</th>\n",
       "      <td>4290336</td>\n",
       "      <td>2016-03-10</td>\n",
       "      <td>3625</td>\n",
       "      <td>0.45</td>\n",
       "      <td>21.500000</td>\n",
       "      <td>2</td>\n",
       "      <td>Toast Chocolate</td>\n",
       "      <td>Super-flavour</td>\n",
       "      <td>Cereal box</td>\n",
       "    </tr>\n",
       "    <tr>\n",
       "      <th>877927</th>\n",
       "      <td>4604976</td>\n",
       "      <td>2016-03-07</td>\n",
       "      <td>3144</td>\n",
       "      <td>0.75</td>\n",
       "      <td>6.400000</td>\n",
       "      <td>2</td>\n",
       "      <td>Squares Mango Peach</td>\n",
       "      <td>Sugar-free</td>\n",
       "      <td>Cereal bars</td>\n",
       "    </tr>\n",
       "    <tr>\n",
       "      <th>109384</th>\n",
       "      <td>4412040</td>\n",
       "      <td>2016-02-08</td>\n",
       "      <td>1181</td>\n",
       "      <td>0.50</td>\n",
       "      <td>5.000000</td>\n",
       "      <td>2</td>\n",
       "      <td>Crispy Rice Mango Peach</td>\n",
       "      <td>Sugar-free</td>\n",
       "      <td>Cereal bars</td>\n",
       "    </tr>\n",
       "    <tr>\n",
       "      <th>358762</th>\n",
       "      <td>4523924</td>\n",
       "      <td>2016-12-15</td>\n",
       "      <td>1036</td>\n",
       "      <td>0.20</td>\n",
       "      <td>10.800000</td>\n",
       "      <td>2</td>\n",
       "      <td>Grape-Nuts Mango Peach</td>\n",
       "      <td>Super-flavour</td>\n",
       "      <td>Cereal box</td>\n",
       "    </tr>\n",
       "    <tr>\n",
       "      <th>1126219</th>\n",
       "      <td>4645560</td>\n",
       "      <td>2016-02-22</td>\n",
       "      <td>2180</td>\n",
       "      <td>1.50</td>\n",
       "      <td>6.500000</td>\n",
       "      <td>2</td>\n",
       "      <td>Nut Cheerios Chocolate Choc Chip</td>\n",
       "      <td>Sugar-free</td>\n",
       "      <td>Cereal bars</td>\n",
       "    </tr>\n",
       "    <tr>\n",
       "      <th>24651</th>\n",
       "      <td>4412040</td>\n",
       "      <td>2017-02-24</td>\n",
       "      <td>108</td>\n",
       "      <td>0.50</td>\n",
       "      <td>25.200001</td>\n",
       "      <td>1</td>\n",
       "      <td>Crispy Rice Mango Peach</td>\n",
       "      <td>Sugar-free</td>\n",
       "      <td>Cereal bars</td>\n",
       "    </tr>\n",
       "    <tr>\n",
       "      <th>1672120</th>\n",
       "      <td>4270121</td>\n",
       "      <td>2016-11-07</td>\n",
       "      <td>1910</td>\n",
       "      <td>0.20</td>\n",
       "      <td>10.200000</td>\n",
       "      <td>2</td>\n",
       "      <td>Squares Chocolate</td>\n",
       "      <td>Super-flavour</td>\n",
       "      <td>Cereal box</td>\n",
       "    </tr>\n",
       "    <tr>\n",
       "      <th>1087117</th>\n",
       "      <td>4625287</td>\n",
       "      <td>2016-08-13</td>\n",
       "      <td>1921</td>\n",
       "      <td>1.50</td>\n",
       "      <td>5.900000</td>\n",
       "      <td>2</td>\n",
       "      <td>Toast Mango Peach</td>\n",
       "      <td>Super-flavour</td>\n",
       "      <td>Cereal box</td>\n",
       "    </tr>\n",
       "    <tr>\n",
       "      <th>758026</th>\n",
       "      <td>4543948</td>\n",
       "      <td>2016-12-19</td>\n",
       "      <td>3098</td>\n",
       "      <td>13.50</td>\n",
       "      <td>40.000000</td>\n",
       "      <td>2</td>\n",
       "      <td>Puffs Mango Peach</td>\n",
       "      <td>Super-flavour</td>\n",
       "      <td>Cereal box</td>\n",
       "    </tr>\n",
       "    <tr>\n",
       "      <th>2382807</th>\n",
       "      <td>4300343</td>\n",
       "      <td>2016-08-11</td>\n",
       "      <td>3857</td>\n",
       "      <td>18.90</td>\n",
       "      <td>38.599998</td>\n",
       "      <td>2</td>\n",
       "      <td>Frosted Mango Peach</td>\n",
       "      <td>Super-flavour</td>\n",
       "      <td>Cereal box</td>\n",
       "    </tr>\n",
       "  </tbody>\n",
       "</table>\n",
       "</div>"
      ],
      "text/plain": [
       "             Sku       Date  Store_Id  Units      Price  proveedor  \\\n",
       "2062855  4290336 2016-03-10      3625   0.45  21.500000          2   \n",
       "877927   4604976 2016-03-07      3144   0.75   6.400000          2   \n",
       "109384   4412040 2016-02-08      1181   0.50   5.000000          2   \n",
       "358762   4523924 2016-12-15      1036   0.20  10.800000          2   \n",
       "1126219  4645560 2016-02-22      2180   1.50   6.500000          2   \n",
       "24651    4412040 2017-02-24       108   0.50  25.200001          1   \n",
       "1672120  4270121 2016-11-07      1910   0.20  10.200000          2   \n",
       "1087117  4625287 2016-08-13      1921   1.50   5.900000          2   \n",
       "758026   4543948 2016-12-19      3098  13.50  40.000000          2   \n",
       "2382807  4300343 2016-08-11      3857  18.90  38.599998          2   \n",
       "\n",
       "                          Sku_Description   Sku_Category Sku_Subcategory  \n",
       "2062855                   Toast Chocolate  Super-flavour      Cereal box  \n",
       "877927                Squares Mango Peach     Sugar-free     Cereal bars  \n",
       "109384            Crispy Rice Mango Peach     Sugar-free     Cereal bars  \n",
       "358762             Grape-Nuts Mango Peach  Super-flavour      Cereal box  \n",
       "1126219  Nut Cheerios Chocolate Choc Chip     Sugar-free     Cereal bars  \n",
       "24651             Crispy Rice Mango Peach     Sugar-free     Cereal bars  \n",
       "1672120                 Squares Chocolate  Super-flavour      Cereal box  \n",
       "1087117                 Toast Mango Peach  Super-flavour      Cereal box  \n",
       "758026                  Puffs Mango Peach  Super-flavour      Cereal box  \n",
       "2382807               Frosted Mango Peach  Super-flavour      Cereal box  "
      ]
     },
     "execution_count": 64,
     "metadata": {},
     "output_type": "execute_result"
    }
   ],
   "source": [
    "# En caso de que esas entradas se consideren un error se puede ocupar esta tabla.\n",
    "fracciones_de_ventas = ventas[mask_pieces].merge(productos, on=\"Sku\")\n",
    "fracciones_de_ventas.sample(10)"
   ]
  },
  {
   "cell_type": "markdown",
   "source": [
    "¿Cuál es la descripcion de los productos con fracciones?"
   ],
   "metadata": {
    "collapsed": false,
    "pycharm": {
     "name": "#%% md\n"
    }
   }
  },
  {
   "cell_type": "code",
   "execution_count": 65,
   "id": "155e0ae4-7233-4dcd-843c-bdda77867911",
   "metadata": {
    "pycharm": {
     "name": "#%%\n"
    }
   },
   "outputs": [
    {
     "data": {
      "text/plain": [
       "Toast Chocolate                               286999\n",
       "Squares Chocolate                             246541\n",
       "Cups Mango Peach                              224276\n",
       "Frosted Mango Peach                           202448\n",
       "Grape-Nuts Mango Peach                        201434\n",
       "Crispy Rice Mango Peach                       195404\n",
       "Crunch Chocolate Choc Chip                    190382\n",
       "MultiGrain Chocolate Choc Chip                178070\n",
       "Toast Mango Peach                             176672\n",
       "Squares Mango Peach                           101486\n",
       "Puffs Mango Peach                              87066\n",
       "Nut Cheerios Chocolate Choc Chip               52418\n",
       "Sugar Chocolate Choc Chip                      50089\n",
       "Cornflakes Mango Peach                         47744\n",
       "Crunch Berries Mango Peach                     44162\n",
       "Crunchy Bran Chocolate Choc Chip               25856\n",
       "Cornflakes Chocolate Choc Chip                 22006\n",
       "Crunchy Nut Cornflakes Chocolate Choc Chip     19433\n",
       "Graham Mango Peach                              9795\n",
       "Sugar Mango Peach                               8996\n",
       "Fruit & Nut Chocolate Choc Chip                 7754\n",
       "Fruit & Bran Chocolate Choc Chip                7256\n",
       "Golden Goals Chocolate Choc Chip                6015\n",
       "Crispy Rice Chocolate Choc Chip                 2505\n",
       "Cookies Chocolate Choc Chip                     2336\n",
       "Crunch Berries Chocolate Choc Chip               439\n",
       "Name: Sku_Description, dtype: int64"
      ]
     },
     "execution_count": 65,
     "metadata": {},
     "output_type": "execute_result"
    }
   ],
   "source": [
    "fracciones_de_ventas.Sku_Description.value_counts()"
   ]
  },
  {
   "cell_type": "markdown",
   "source": [
    "¿A que subcategoria de los productos corresponden?"
   ],
   "metadata": {
    "collapsed": false,
    "pycharm": {
     "name": "#%% md\n"
    }
   }
  },
  {
   "cell_type": "code",
   "execution_count": 66,
   "id": "b7df74e6-953d-472c-a0b6-13d98c386d7b",
   "metadata": {
    "pycharm": {
     "name": "#%%\n"
    }
   },
   "outputs": [
    {
     "data": {
      "text/plain": [
       "Super-flavour    1916552\n",
       "Sugar-free        481030\n",
       "Name: Sku_Category, dtype: int64"
      ]
     },
     "execution_count": 66,
     "metadata": {},
     "output_type": "execute_result"
    }
   ],
   "source": [
    "fracciones_de_ventas.Sku_Category.value_counts()"
   ]
  },
  {
   "cell_type": "markdown",
   "id": "50a6f8fa-a85f-466b-8dee-aafaaafd5b13",
   "metadata": {
    "pycharm": {
     "name": "#%% md\n"
    }
   },
   "source": [
    "¿Por qué tenemos fracciones de cajas de cereales?"
   ]
  }
 ],
 "metadata": {
  "kernelspec": {
   "display_name": "wise:Python",
   "language": "python",
   "name": "conda-env-wise-py"
  },
  "language_info": {
   "codemirror_mode": {
    "name": "ipython",
    "version": 3
   },
   "file_extension": ".py",
   "mimetype": "text/x-python",
   "name": "python",
   "nbconvert_exporter": "python",
   "pygments_lexer": "ipython3",
   "version": "3.9.10"
  }
 },
 "nbformat": 4,
 "nbformat_minor": 5
}